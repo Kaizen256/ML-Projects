{
 "cells": [
  {
   "cell_type": "code",
   "execution_count": null,
   "id": "ba58a48f",
   "metadata": {},
   "outputs": [],
   "source": [
    "import numpy as np\n",
    "import torch\n",
    "from torch import nn\n",
    "\n",
    "nn.GRU()\n",
    "nn.LSTM()"
   ]
  },
  {
   "cell_type": "code",
   "execution_count": 27,
   "id": "5ea2a4bd",
   "metadata": {},
   "outputs": [],
   "source": [
    "seq_len = 10\n",
    "bs = 2\n",
    "input_size = 22\n",
    "hidden_size = 16\n",
    "W_f = np.random.rand(hidden_size, input_size) * 0.1\n",
    "W_i = np.random.rand(hidden_size, input_size) * 0.1\n",
    "W_o = np.random.rand(hidden_size, input_size) * 0.1\n",
    "W_c = np.random.rand(hidden_size, input_size) * 0.1\n",
    "\n",
    "U_f = np.random.rand(hidden_size, hidden_size) * 0.1\n",
    "U_i = np.random.rand(hidden_size, hidden_size) * 0.1\n",
    "U_o = np.random.rand(hidden_size, hidden_size) * 0.1\n",
    "U_c = np.random.rand(hidden_size, hidden_size) * 0.1\n",
    "\n",
    "b_f = np.zeros(hidden_size)\n",
    "b_i = np.zeros(hidden_size)\n",
    "b_o = np.zeros(hidden_size,)\n",
    "b_c = np.zeros(hidden_size)\n",
    "\n",
    "X = np.random.rand(bs, seq_len, input_size)\n",
    "\n",
    "h = np.zeros((1, bs, hidden_size))\n",
    "c = np.zeros((1, bs, hidden_size))"
   ]
  },
  {
   "cell_type": "code",
   "execution_count": 28,
   "id": "028aa73e",
   "metadata": {},
   "outputs": [],
   "source": [
    "def sigmoid(x):\n",
    "    return 1 / (1 + np.exp(-x))\n",
    "\n",
    "def tanh(x):\n",
    "    return np.tanh(x)"
   ]
  },
  {
   "cell_type": "code",
   "execution_count": 31,
   "id": "7805ca19",
   "metadata": {},
   "outputs": [],
   "source": [
    "def LSTM_forward(x, h, c):\n",
    "    \n",
    "    I = sigmoid(x @ W_i.T + h @ U_i.T + b_i)\n",
    "    F = sigmoid(x @ W_f.T + h @ U_f.T + b_f)\n",
    "    O = sigmoid(x @ W_o.T + h @ U_o.T + b_o)\n",
    "    C_n = tanh(x @ W_c.T + h @ U_c.T + b_c)\n",
    "\n",
    "    c = F * c + I * C_n\n",
    "    ht = O * tanh(c)\n",
    "    return ht, c"
   ]
  },
  {
   "cell_type": "code",
   "execution_count": 32,
   "id": "f6f41dd1",
   "metadata": {},
   "outputs": [],
   "source": [
    "for i in range(len(X[0])):\n",
    "    h, c = LSTM_forward(X[1, i, :], h, c)"
   ]
  },
  {
   "cell_type": "code",
   "execution_count": 48,
   "id": "de7dfde2",
   "metadata": {},
   "outputs": [],
   "source": [
    "class Gru(nn.Module):\n",
    "    def __init__(self):\n",
    "        super().__init__()\n",
    "        self.gru = nn.GRU(22, 16, batch_first = True, num_layers = 4)\n",
    "    def forward(self, x):\n",
    "        return self.gru(x)"
   ]
  },
  {
   "cell_type": "code",
   "execution_count": null,
   "id": "8b395422",
   "metadata": {},
   "outputs": [
    {
     "name": "stdout",
     "output_type": "stream",
     "text": [
      "torch.Size([22])\n"
     ]
    }
   ],
   "source": [
    "X = torch.rand(size=(bs, seq_len, input_size))\n",
    "print(X[0, 2, :].shape)\n",
    "gru = Gru()\n",
    "for i in range(len(X[0])):\n",
    "    gru(X[:, i, :])\n"
   ]
  }
 ],
 "metadata": {
  "kernelspec": {
   "display_name": "Python 3",
   "language": "python",
   "name": "python3"
  },
  "language_info": {
   "codemirror_mode": {
    "name": "ipython",
    "version": 3
   },
   "file_extension": ".py",
   "mimetype": "text/x-python",
   "name": "python",
   "nbconvert_exporter": "python",
   "pygments_lexer": "ipython3",
   "version": "3.12.3"
  }
 },
 "nbformat": 4,
 "nbformat_minor": 5
}
