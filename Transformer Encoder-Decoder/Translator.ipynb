{
 "cells": [
  {
   "cell_type": "markdown",
   "id": "1a09322c",
   "metadata": {
    "papermill": {
     "duration": 0.003996,
     "end_time": "2025-07-30T07:17:44.819304",
     "exception": false,
     "start_time": "2025-07-30T07:17:44.815308",
     "status": "completed"
    },
    "tags": []
   },
   "source": [
    "# Transformer Encoder-Decoder for English-to-Japanese Translation\n",
    "\n",
    "Note: This project is less documented compared to my other projects, as it was developed while I was implementing a Swin Transformer, leaving me with limited focus for detailed documentation. If I have time I may add more documentation.\n",
    "\n",
    "This project implements a Transformer based sequence-to-sequence model from scratch to translate English sentences into Japanese. The entire architecture, including multi-head attention, positional encoding, masking, and training with a learning rate scheduler is manually implemented using PyTorch. This project is meant to give me a deeper understanding of Transformers so I can tackle Swin Transformer.\n",
    "\n",
    "## Architecture\n",
    "![Architecture](figures/Encoder_Decoder.png)\n",
    "\n",
    "Image source: Zhang, Aston and Lipton, Zachary C. and Li, Mu and Smola, Alexander J. - https://github.com/d2l-ai/d2l-en"
   ]
  },
  {
   "cell_type": "markdown",
   "id": "ee78e3be",
   "metadata": {},
   "source": [
    "## Preprocessing\n",
    "Dataset is English–Japanese sentence pairs from the Tatoeba Project. Preprocessing is copy and pasted from my numpy implementation which used the same dataset. Used the entire dataset instead of a small portion."
   ]
  },
  {
   "cell_type": "code",
   "execution_count": null,
   "id": "69296f72",
   "metadata": {
    "execution": {
     "iopub.execute_input": "2025-07-30T07:17:44.827768Z",
     "iopub.status.busy": "2025-07-30T07:17:44.826914Z",
     "iopub.status.idle": "2025-07-30T07:17:51.014428Z",
     "shell.execute_reply": "2025-07-30T07:17:51.013386Z"
    },
    "papermill": {
     "duration": 6.193278,
     "end_time": "2025-07-30T07:17:51.015809",
     "exception": false,
     "start_time": "2025-07-30T07:17:44.822531",
     "status": "completed"
    },
    "tags": []
   },
   "outputs": [
    {
     "name": "stdout",
     "output_type": "stream",
     "text": [
      "Using device: cuda\n",
      "English Sentences (sample): ['go', 'hi', 'run']\n",
      "English Sentences Length: 94468\n",
      "Japanese Sentences (sample): ['行け。', 'こんにちは。', '走れ。']\n",
      "Japanese Sentences Length: 94468\n",
      "English Vocabulary Size: 6410\n",
      "Japanese Vocabulary Size: 2020\n",
      "Encoded English sentence: [[2], [3], [4], [5], [6]]\n",
      "Encoded Japanese sentence: [[2, 4, 5, 6, 3], [2, 7, 8, 9, 10, 11, 6, 3], [2, 12, 13, 6, 3], [2, 14, 15, 3], [2, 16, 17, 18, 19, 3]]\n"
     ]
    }
   ],
   "source": [
    "import torch\n",
    "from torch import nn, optim\n",
    "import re\n",
    "from collections import Counter\n",
    "\n",
    "device = torch.device(\"cuda\" if torch.cuda.is_available() else \"cpu\")\n",
    "print(\"Using device:\", device)\n",
    "\n",
    "eng_sentences = []\n",
    "jpn_sentences = []\n",
    "seen = set()\n",
    "\n",
    "with open('jpn.txt', \"r\", encoding=\"utf-8\") as f:\n",
    "    for line in f:\n",
    "        parts = line.strip().split(\"\\t\")\n",
    "\n",
    "        eng = parts[0].strip().lower()\n",
    "        jpn = parts[1].strip().lower()\n",
    "\n",
    "        # Clean English: keep lowercase letters, numbers, and spaces\n",
    "        eng = re.sub(r\"[^a-z0-9\\s]\", \"\", eng)\n",
    "\n",
    "        # Clean Japanese: keep hiragana, katakana, kanji, and Japanese punctuation\n",
    "        jpn = re.sub(r\"[^\\u3040-\\u30ff\\u4e00-\\u9fff。、！？\\s]\", \"\", jpn)\n",
    "\n",
    "        if eng not in seen:\n",
    "            eng_sentences.append(eng)\n",
    "            jpn_sentences.append(jpn)\n",
    "            seen.add(eng)\n",
    "\n",
    "print(f\"English Sentences (sample): {eng_sentences[:3]}\")\n",
    "print(f\"English Sentences Length: {len(eng_sentences)}\")\n",
    "print(f\"Japanese Sentences (sample): {jpn_sentences[:3]}\")\n",
    "print(f\"Japanese Sentences Length: {len(jpn_sentences)}\")\n",
    "\n",
    "# English word-level vocab\n",
    "eng_counter = Counter()\n",
    "for sent in eng_sentences:\n",
    "    eng_counter.update(sent.strip().split())\n",
    "\n",
    "eng_to_ind = {'<pad>': 0, '<unk>': 1}\n",
    "ind = 2\n",
    "for word in eng_counter:\n",
    "    if eng_counter[word] > 2:\n",
    "        eng_to_ind[word] = ind\n",
    "        ind += 1\n",
    "\n",
    "# Japanese char-level vocab\n",
    "jpn_counter = Counter()\n",
    "for sent in jpn_sentences:\n",
    "    jpn_counter.update(list(sent))\n",
    "\n",
    "jpn_to_ind = {'<pad>': 0, '<unk>': 1, '<bos>': 2, '<eos>': 3}\n",
    "ind_to_jpn = {0: '<pad>', 1: '<unk>', 2: '<bos>', 3: '<eos>'}\n",
    "ind = 4\n",
    "for ch in jpn_counter:\n",
    "    if jpn_counter[ch] > 2:\n",
    "        jpn_to_ind[ch] = ind\n",
    "        ind_to_jpn[ind] = ch\n",
    "        ind += 1\n",
    "\n",
    "print(\"English Vocabulary Size:\", len(eng_to_ind))\n",
    "print(\"Japanese Vocabulary Size:\", len(jpn_to_ind))\n",
    "\n",
    "eng_encoded = []\n",
    "for sentence in eng_sentences:\n",
    "    s = []\n",
    "    for word in sentence.split():\n",
    "        if word in eng_to_ind:\n",
    "            s.append(eng_to_ind[word])\n",
    "        else:\n",
    "            s.append(1)\n",
    "    eng_encoded.append(s)\n",
    "\n",
    "jpn_encoded = []\n",
    "for sentence in jpn_sentences:\n",
    "    s = [2] # 2 is <bos>\n",
    "    for ch in sentence:\n",
    "        if ch in jpn_to_ind:\n",
    "            s.append(jpn_to_ind[ch])\n",
    "        else:\n",
    "            s.append(1)   # 1 is <unk>\n",
    "    s.append(3)           # 3 is <eos>\n",
    "    jpn_encoded.append(s)\n",
    "\n",
    "print(\"Encoded English sentence:\", eng_encoded[0:5])\n",
    "print(\"Encoded Japanese sentence:\", jpn_encoded[0:5])\n"
   ]
  },
  {
   "cell_type": "markdown",
   "id": "141175ca",
   "metadata": {},
   "source": [
    "## Positional Encoding\n",
    "\n",
    "Transformers have no notion of sequence order. To inject information about token position, sinusoidal positional encodings is added to the input embeddings.\n",
    "\n",
    "PE(i,2k)​=sin(i/10000^(2k/d)), PE(i,2k+1)​=cos(i/10000^(2k/d)) \n",
    "\n",
    "where i is the token position, k is the dimension index, and d is the embedding size\n"
   ]
  },
  {
   "cell_type": "code",
   "execution_count": null,
   "id": "e64a790b",
   "metadata": {
    "execution": {
     "iopub.execute_input": "2025-07-30T07:17:51.029332Z",
     "iopub.status.busy": "2025-07-30T07:17:51.028678Z",
     "iopub.status.idle": "2025-07-30T07:17:51.034841Z",
     "shell.execute_reply": "2025-07-30T07:17:51.033958Z"
    },
    "papermill": {
     "duration": 0.011442,
     "end_time": "2025-07-30T07:17:51.036123",
     "exception": false,
     "start_time": "2025-07-30T07:17:51.024681",
     "status": "completed"
    },
    "tags": []
   },
   "outputs": [],
   "source": [
    "class PositionEncoding(nn.Module):\n",
    "    def __init__(self, d_model, length=200):\n",
    "        super().__init__()\n",
    "\n",
    "        PE = torch.zeros(length, d_model) # (length, d_model)\n",
    "\n",
    "        position = torch.arange(0, length, dtype=torch.float).unsqueeze(1) # (length, 1)\n",
    "        # Denominator term of the sinusoidal formula\n",
    "        denominator = torch.pow(10000, 2*torch.arange(0, d_model, 2) / d_model)\n",
    "\n",
    "        # Apply sin and cos\n",
    "        PE[:, 0::2] = torch.sin(position * denominator)\n",
    "        PE[:, 1::2] = torch.cos(position * denominator)\n",
    "\n",
    "        PE = PE.unsqueeze(0) # (1, length, d_model)\n",
    "        self.register_buffer(\"PE\", PE) # This is something new that I learned\n",
    "        # It lets PE move to the GPU and includes it in the state dict.\n",
    "    \n",
    "    def forward(self, x):\n",
    "        x = x + self.PE[:, :x.size(1)]\n",
    "        return x"
   ]
  },
  {
   "cell_type": "markdown",
   "id": "1425124b",
   "metadata": {
    "papermill": {
     "duration": 0.002745,
     "end_time": "2025-07-30T07:17:51.041970",
     "exception": false,
     "start_time": "2025-07-30T07:17:51.039225",
     "status": "completed"
    },
    "tags": []
   },
   "source": [
    "## Transformer Encoder & Decoder Layers\n",
    "\n",
    "Each Transformer layer is built using:\n",
    "- Multi-Head Attention: Allows the model to attend to information at different positions.\n",
    "- Feedforward Network: A two-layer MLP.\n",
    "- Residual Connections and Layer Normalization.\n"
   ]
  },
  {
   "cell_type": "code",
   "execution_count": null,
   "id": "c08d6c52",
   "metadata": {
    "execution": {
     "iopub.execute_input": "2025-07-30T07:17:51.048883Z",
     "iopub.status.busy": "2025-07-30T07:17:51.048608Z",
     "iopub.status.idle": "2025-07-30T07:17:51.054834Z",
     "shell.execute_reply": "2025-07-30T07:17:51.054041Z"
    },
    "papermill": {
     "duration": 0.011007,
     "end_time": "2025-07-30T07:17:51.056017",
     "exception": false,
     "start_time": "2025-07-30T07:17:51.045010",
     "status": "completed"
    },
    "tags": []
   },
   "outputs": [],
   "source": [
    "class EncoderLayer(nn.Module):\n",
    "    def __init__(self, d_model, nheads, dim_feedforward, dropout=0.2):\n",
    "        super().__init__()\n",
    "        self.self_attn = nn.MultiheadAttention(d_model, nheads, dropout=dropout, batch_first=True)\n",
    "        self.norm1 = nn.LayerNorm(d_model)\n",
    "        \n",
    "        # Feedforward network: two linear layers with ReLU and dropout\n",
    "        self.linear1 = nn.Linear(d_model, dim_feedforward)\n",
    "        self.relu = nn.ReLU()\n",
    "        self.dropout = nn.Dropout(dropout)\n",
    "        self.linear2 = nn.Linear(dim_feedforward, d_model)\n",
    "        self.norm2 = nn.LayerNorm(d_model)\n",
    "    \n",
    "    def forward(self, x, pad_mask):\n",
    "        # Self-attention with padding mask to ignore padding tokens\n",
    "        attn_output, _ = self.self_attn(x, x, x, key_padding_mask=pad_mask)\n",
    "        x = self.norm1(x + attn_output)\n",
    "        \n",
    "        ff = self.linear2(self.dropout(self.relu(self.linear1(x))))\n",
    "        x = self.norm2(x + ff)\n",
    "        return x"
   ]
  },
  {
   "cell_type": "code",
   "execution_count": 8,
   "id": "13e3238e",
   "metadata": {
    "execution": {
     "iopub.execute_input": "2025-07-30T07:17:51.063134Z",
     "iopub.status.busy": "2025-07-30T07:17:51.062882Z",
     "iopub.status.idle": "2025-07-30T07:17:51.069491Z",
     "shell.execute_reply": "2025-07-30T07:17:51.068872Z"
    },
    "papermill": {
     "duration": 0.011458,
     "end_time": "2025-07-30T07:17:51.070630",
     "exception": false,
     "start_time": "2025-07-30T07:17:51.059172",
     "status": "completed"
    },
    "tags": []
   },
   "outputs": [],
   "source": [
    "class DecoderLayer(nn.Module):\n",
    "    def __init__(self, d_model, nheads, dim_feedforward, dropout=0.2):\n",
    "        super().__init__()\n",
    "        self.self_attn = nn.MultiheadAttention(d_model, nheads, dropout=dropout, batch_first=True)\n",
    "        self.cross_attn = nn.MultiheadAttention(d_model, nheads, dropout=dropout, batch_first=True)\n",
    "        self.norm1 = nn.LayerNorm(d_model)\n",
    "        self.norm2 = nn.LayerNorm(d_model)\n",
    "\n",
    "        self.linear1 = nn.Linear(d_model, dim_feedforward)\n",
    "        self.relu = nn.ReLU()\n",
    "        self.dropout = nn.Dropout(dropout)\n",
    "        self.linear2 = nn.Linear(dim_feedforward, d_model)\n",
    "        self.norm3 = nn.LayerNorm(d_model)\n",
    "    \n",
    "    def forward(self, x, enc_out, y_pad_mask=None, cross_pad_mask=None, causal_mask=None):\n",
    "        attn_output, _ = self.self_attn(x, x, x, attn_mask=causal_mask, \n",
    "                                        key_padding_mask=y_pad_mask)\n",
    "        x = self.norm1(x + attn_output)\n",
    "\n",
    "        cross_attn_output, _ = self.cross_attn(x, enc_out, enc_out, \n",
    "                                               key_padding_mask=cross_pad_mask)\n",
    "        x = self.norm2(x + cross_attn_output)\n",
    "\n",
    "        ff = self.linear2(self.dropout(self.relu(self.linear1(x))))\n",
    "        x = self.norm3(x + ff)\n",
    "        return x"
   ]
  },
  {
   "cell_type": "code",
   "execution_count": 9,
   "id": "4e77d833",
   "metadata": {
    "execution": {
     "iopub.execute_input": "2025-07-30T07:17:51.077507Z",
     "iopub.status.busy": "2025-07-30T07:17:51.077237Z",
     "iopub.status.idle": "2025-07-30T07:17:51.081496Z",
     "shell.execute_reply": "2025-07-30T07:17:51.080857Z"
    },
    "papermill": {
     "duration": 0.009026,
     "end_time": "2025-07-30T07:17:51.082640",
     "exception": false,
     "start_time": "2025-07-30T07:17:51.073614",
     "status": "completed"
    },
    "tags": []
   },
   "outputs": [],
   "source": [
    "def padding_mask(seq):\n",
    "    # Padding Mask to prevent attention from looking at padding.\n",
    "    return (seq == 0)\n",
    "\n",
    "def causal_mask(seq_len, device):\n",
    "    # Creates upper triangular matrix filled with -inf above the diagonal\n",
    "    return torch.triu(torch.ones((seq_len, seq_len), device=device), diagonal=1).bool()"
   ]
  },
  {
   "cell_type": "markdown",
   "id": "f944be44",
   "metadata": {},
   "source": [
    "## Transformer Model"
   ]
  },
  {
   "cell_type": "code",
   "execution_count": 10,
   "id": "ecb806fa",
   "metadata": {
    "execution": {
     "iopub.execute_input": "2025-07-30T07:17:51.089510Z",
     "iopub.status.busy": "2025-07-30T07:17:51.089256Z",
     "iopub.status.idle": "2025-07-30T07:17:51.096391Z",
     "shell.execute_reply": "2025-07-30T07:17:51.095644Z"
    },
    "papermill": {
     "duration": 0.011837,
     "end_time": "2025-07-30T07:17:51.097597",
     "exception": false,
     "start_time": "2025-07-30T07:17:51.085760",
     "status": "completed"
    },
    "tags": []
   },
   "outputs": [],
   "source": [
    "class Transformer(nn.Module):\n",
    "    def __init__(self, d_model, dim_feedforward, heads, num_encoder_lay, \n",
    "                 num_decoder_lay, max_len, x_vocab_size, y_vocab_size):\n",
    "        super().__init__()\n",
    "        self.encoder_embedding = nn.Embedding(x_vocab_size, d_model, padding_idx=0)\n",
    "        self.decoder_embedding = nn.Embedding(y_vocab_size, d_model, padding_idx=0)\n",
    "        \n",
    "        self.pos_encoder = PositionEncoding(d_model, max_len)\n",
    "        self.pos_decoder = PositionEncoding(d_model, max_len)\n",
    "\n",
    "        self.encoder_layers = nn.ModuleList([\n",
    "            EncoderLayer(d_model, heads, dim_feedforward) for _ in range(num_encoder_lay)\n",
    "        ])\n",
    "        self.decoder_layers = nn.ModuleList([\n",
    "            DecoderLayer(d_model, heads, dim_feedforward) for _ in range(num_decoder_lay)\n",
    "        ])\n",
    "        self.output_layer = nn.Linear(d_model, y_vocab_size)\n",
    "    \n",
    "    def forward(self, x, y):\n",
    "        x_pad_mask = padding_mask(x)\n",
    "        y_pad_mask = padding_mask(y)\n",
    "        causal = causal_mask(y.size(1), y.device)\n",
    "\n",
    "        x = self.encoder_embedding(x)\n",
    "        x = self.pos_encoder(x)\n",
    "        y = self.decoder_embedding(y)\n",
    "        y = self.pos_decoder(y)\n",
    "\n",
    "        for layer in self.encoder_layers:\n",
    "            x = layer(x, x_pad_mask)\n",
    "        \n",
    "        for layer in self.decoder_layers:\n",
    "            y = layer(y, x, y_pad_mask, x_pad_mask, causal)\n",
    "\n",
    "        return self.output_layer(y)"
   ]
  },
  {
   "cell_type": "code",
   "execution_count": 7,
   "id": "0586a1cd",
   "metadata": {
    "execution": {
     "iopub.execute_input": "2025-07-30T07:17:51.104765Z",
     "iopub.status.busy": "2025-07-30T07:17:51.104536Z",
     "iopub.status.idle": "2025-07-30T07:17:51.109942Z",
     "shell.execute_reply": "2025-07-30T07:17:51.109282Z"
    },
    "papermill": {
     "duration": 0.010375,
     "end_time": "2025-07-30T07:17:51.111138",
     "exception": false,
     "start_time": "2025-07-30T07:17:51.100763",
     "status": "completed"
    },
    "tags": []
   },
   "outputs": [],
   "source": [
    "from torch.utils.data import Dataset\n",
    "\n",
    "class TransformerDataset(Dataset):\n",
    "    def __init__(self, x, y):\n",
    "        self.x = x\n",
    "        self.y = y\n",
    "\n",
    "    def __len__(self):\n",
    "        return len(self.x)\n",
    "\n",
    "    def __getitem__(self, idx):\n",
    "        return self.x[idx], self.y[idx]\n"
   ]
  },
  {
   "cell_type": "code",
   "execution_count": 8,
   "id": "e1d0f262",
   "metadata": {
    "execution": {
     "iopub.execute_input": "2025-07-30T07:17:51.118246Z",
     "iopub.status.busy": "2025-07-30T07:17:51.117722Z",
     "iopub.status.idle": "2025-07-30T07:17:51.122159Z",
     "shell.execute_reply": "2025-07-30T07:17:51.121374Z"
    },
    "papermill": {
     "duration": 0.009338,
     "end_time": "2025-07-30T07:17:51.123471",
     "exception": false,
     "start_time": "2025-07-30T07:17:51.114133",
     "status": "completed"
    },
    "tags": []
   },
   "outputs": [],
   "source": [
    "from torch.nn.utils.rnn import pad_sequence\n",
    "\n",
    "def collate_fn(batch):\n",
    "    x_batch, y_batch = zip(*batch)\n",
    "\n",
    "    x_batch = pad_sequence(x_batch, batch_first=True, padding_value=0)\n",
    "    y_batch = pad_sequence(y_batch, batch_first=True, padding_value=0)\n",
    "\n",
    "    return x_batch, y_batch  # no masks returned\n"
   ]
  },
  {
   "cell_type": "code",
   "execution_count": null,
   "id": "4843e0e1",
   "metadata": {
    "execution": {
     "iopub.execute_input": "2025-07-30T07:17:51.131751Z",
     "iopub.status.busy": "2025-07-30T07:17:51.131218Z",
     "iopub.status.idle": "2025-07-30T07:17:52.470069Z",
     "shell.execute_reply": "2025-07-30T07:17:52.469448Z"
    },
    "papermill": {
     "duration": 1.345234,
     "end_time": "2025-07-30T07:17:52.471819",
     "exception": false,
     "start_time": "2025-07-30T07:17:51.126585",
     "status": "completed"
    },
    "tags": []
   },
   "outputs": [],
   "source": [
    "from torch.utils.data import DataLoader\n",
    "\n",
    "eng_tensors = [torch.tensor(seq, dtype=torch.long) for seq in eng_encoded]\n",
    "jpn_tensors = [torch.tensor(seq, dtype=torch.long) for seq in jpn_encoded]\n",
    "dataset = TransformerDataset(eng_tensors, jpn_tensors)\n",
    "\n",
    "dataloader = DataLoader(\n",
    "    dataset,\n",
    "    batch_size=64,\n",
    "    shuffle=True,\n",
    "    collate_fn=collate_fn\n",
    ")"
   ]
  },
  {
   "cell_type": "markdown",
   "id": "4caa7d7f",
   "metadata": {
    "papermill": {
     "duration": 0.003048,
     "end_time": "2025-07-30T07:17:52.478151",
     "exception": false,
     "start_time": "2025-07-30T07:17:52.475103",
     "status": "completed"
    },
    "tags": []
   },
   "source": [
    "Custom LR scheduler mirrors original Transformer paper"
   ]
  },
  {
   "cell_type": "code",
   "execution_count": null,
   "id": "e2e29c57",
   "metadata": {
    "execution": {
     "iopub.execute_input": "2025-07-30T07:17:52.485564Z",
     "iopub.status.busy": "2025-07-30T07:17:52.485257Z",
     "iopub.status.idle": "2025-07-30T07:17:52.490820Z",
     "shell.execute_reply": "2025-07-30T07:17:52.490026Z"
    },
    "papermill": {
     "duration": 0.010943,
     "end_time": "2025-07-30T07:17:52.492139",
     "exception": false,
     "start_time": "2025-07-30T07:17:52.481196",
     "status": "completed"
    },
    "tags": []
   },
   "outputs": [],
   "source": [
    "class TransformerLRScheduler:\n",
    "    def __init__(self, optimizer, d_model, warmup_steps=4000):\n",
    "        self.optimizer = optimizer\n",
    "        self.d_model = d_model\n",
    "        self.warmup_steps = warmup_steps\n",
    "        self.step_num = 0\n",
    "\n",
    "    def step(self):\n",
    "        self.step_num += 1\n",
    "        lr = self._compute_lr()\n",
    "\n",
    "        for param_group in self.optimizer.param_groups:\n",
    "            param_group['lr'] = lr\n",
    "\n",
    "    def _compute_lr(self):\n",
    "        return (self.d_model ** -0.5) * min(\n",
    "            self.step_num ** -0.5,\n",
    "            self.step_num * (self.warmup_steps ** -1.5)\n",
    "        )"
   ]
  },
  {
   "cell_type": "markdown",
   "id": "4f5a42fc",
   "metadata": {},
   "source": [
    "## Training Loop"
   ]
  },
  {
   "cell_type": "code",
   "execution_count": 11,
   "id": "365a3fc5",
   "metadata": {
    "execution": {
     "iopub.execute_input": "2025-07-30T07:17:52.499284Z",
     "iopub.status.busy": "2025-07-30T07:17:52.499082Z",
     "iopub.status.idle": "2025-07-30T08:04:21.816713Z",
     "shell.execute_reply": "2025-07-30T08:04:21.815802Z"
    },
    "papermill": {
     "duration": 2789.327241,
     "end_time": "2025-07-30T08:04:21.822556",
     "exception": false,
     "start_time": "2025-07-30T07:17:52.495315",
     "status": "completed"
    },
    "tags": []
   },
   "outputs": [
    {
     "name": "stdout",
     "output_type": "stream",
     "text": [
      "Epoch 1, Loss: 3.7658\n",
      "Epoch 2, Loss: 2.2293\n",
      "Epoch 3, Loss: 1.8411\n",
      "Epoch 4, Loss: 1.6123\n",
      "Epoch 5, Loss: 1.4417\n",
      "Epoch 6, Loss: 1.3264\n",
      "Epoch 7, Loss: 1.2383\n",
      "Epoch 8, Loss: 1.1697\n",
      "Epoch 9, Loss: 1.1112\n",
      "Epoch 10, Loss: 1.0618\n",
      "Epoch 11, Loss: 1.0193\n",
      "Epoch 12, Loss: 0.9825\n",
      "Epoch 13, Loss: 0.9489\n",
      "Epoch 14, Loss: 0.9190\n",
      "Epoch 15, Loss: 0.8911\n",
      "Epoch 16, Loss: 0.8663\n",
      "Epoch 17, Loss: 0.8441\n",
      "Epoch 18, Loss: 0.8223\n",
      "Epoch 19, Loss: 0.8029\n",
      "Epoch 20, Loss: 0.7836\n",
      "Epoch 21, Loss: 0.7675\n",
      "Epoch 22, Loss: 0.7513\n",
      "Epoch 23, Loss: 0.7356\n",
      "Epoch 24, Loss: 0.7215\n",
      "Epoch 25, Loss: 0.7088\n",
      "Epoch 26, Loss: 0.6946\n",
      "Epoch 27, Loss: 0.6835\n",
      "Epoch 28, Loss: 0.6723\n",
      "Epoch 29, Loss: 0.6616\n",
      "Epoch 30, Loss: 0.6522\n",
      "Epoch 31, Loss: 0.6421\n",
      "Epoch 32, Loss: 0.6317\n",
      "Epoch 33, Loss: 0.6217\n",
      "Epoch 34, Loss: 0.6136\n",
      "Epoch 35, Loss: 0.6056\n",
      "Epoch 36, Loss: 0.5974\n",
      "Epoch 37, Loss: 0.5897\n",
      "Epoch 38, Loss: 0.5825\n",
      "Epoch 39, Loss: 0.5747\n",
      "Epoch 40, Loss: 0.5678\n",
      "Epoch 41, Loss: 0.5607\n",
      "Epoch 42, Loss: 0.5546\n",
      "Epoch 43, Loss: 0.5491\n",
      "Epoch 44, Loss: 0.5433\n",
      "Epoch 45, Loss: 0.5359\n",
      "Epoch 46, Loss: 0.5303\n",
      "Epoch 47, Loss: 0.5258\n",
      "Epoch 48, Loss: 0.5195\n",
      "Epoch 49, Loss: 0.5153\n",
      "Epoch 50, Loss: 0.5095\n"
     ]
    }
   ],
   "source": [
    "epochs = 50\n",
    "d_model = 180\n",
    "model = Transformer(d_model=d_model,\n",
    "                    dim_feedforward=720,\n",
    "                    heads=6,\n",
    "                    num_decoder_lay=5,\n",
    "                    num_encoder_lay=5,\n",
    "                    max_len=200,\n",
    "                    x_vocab_size=len(eng_to_ind),\n",
    "                    y_vocab_size=len(jpn_to_ind)\n",
    "                    ).to(device)\n",
    "loss_fn = nn.CrossEntropyLoss(ignore_index=0)\n",
    "optimizer = optim.Adam(model.parameters(), lr=1e-4, betas=(0.9, 0.98), eps=1e-9)\n",
    "\n",
    "scheduler = TransformerLRScheduler(optimizer, d_model)\n",
    "\n",
    "past_loss = []\n",
    "for epoch in range(epochs):\n",
    "    total_loss = 0\n",
    "    total_tokens = 0\n",
    "    for xb, yb in dataloader:\n",
    "        xb = xb.to(device)\n",
    "        yb = yb.to(device)\n",
    "        optimizer.zero_grad()\n",
    "        output = model(xb, yb[:, :-1])\n",
    "        target = yb[:, 1:]\n",
    "\n",
    "        num_tokens = (target != 0).sum  ().item()\n",
    "        total_tokens += num_tokens\n",
    "\n",
    "        output = output.flatten(0, 1)\n",
    "        target = target.flatten()\n",
    "        loss = loss_fn(output, target)\n",
    "        loss.backward()\n",
    "        optimizer.step()\n",
    "        scheduler.step()\n",
    "\n",
    "        total_loss += loss.item() * num_tokens\n",
    "    print(f\"Epoch {epoch+1}, Loss: {total_loss / total_tokens:.4f}\")\n",
    "    if len(past_loss) > 5:\n",
    "        if past_loss[-1] < total_loss and past_loss[-2] < past_loss[-1]:\n",
    "            break\n",
    "    past_loss.append(total_loss)\n",
    "\n",
    "torch.save(model.state_dict(), \"torch_params2.pt\")\n"
   ]
  },
  {
   "cell_type": "markdown",
   "id": "a983878f",
   "metadata": {},
   "source": [
    "## Beam Search implementation"
   ]
  },
  {
   "cell_type": "code",
   "execution_count": null,
   "id": "4b19ac5a",
   "metadata": {
    "execution": {
     "iopub.execute_input": "2025-07-30T08:04:21.835133Z",
     "iopub.status.busy": "2025-07-30T08:04:21.834435Z",
     "iopub.status.idle": "2025-07-30T08:04:23.633837Z",
     "shell.execute_reply": "2025-07-30T08:04:23.633141Z"
    },
    "papermill": {
     "duration": 1.807161,
     "end_time": "2025-07-30T08:04:23.635252",
     "exception": false,
     "start_time": "2025-07-30T08:04:21.828091",
     "status": "completed"
    },
    "tags": []
   },
   "outputs": [],
   "source": [
    "import torch.nn.functional as F\n",
    "\n",
    "def translate_beam(model, src_seq, eng_to_ind, jpn_to_ind, ind_to_jpn, max_len=40, beam_width=3):\n",
    "    model.eval()\n",
    "    bos_id = jpn_to_ind[\"<bos>\"]\n",
    "    eos_id = jpn_to_ind[\"<eos>\"]\n",
    "\n",
    "    # Convert input sentence to tensor\n",
    "    src_indices = [eng_to_ind.get(tok, 1) for tok in src_seq]  # 1 = <unk>\n",
    "    src_tensor = torch.tensor([src_indices], dtype=torch.long).to(device)\n",
    "\n",
    "    # Initial decoder input\n",
    "    beam = [(0.0, [bos_id])]  # (score, token_id_sequence)\n",
    "    completed = []\n",
    "\n",
    "    with torch.no_grad():\n",
    "        for _ in range(max_len):\n",
    "            new_beam = []\n",
    "\n",
    "            for score, seq in beam:\n",
    "                if seq[-1] == eos_id:\n",
    "                    completed.append((score, seq))\n",
    "                    continue\n",
    "\n",
    "                tgt_tensor = torch.tensor([seq], dtype=torch.long).to(device)  # shape: [1, seq_len]\n",
    "                out = model(src_tensor, tgt_tensor)  # shape: [1, seq_len, vocab]\n",
    "                logits = out[:, -1, :]  # take last token output\n",
    "                log_probs = F.log_softmax(logits, dim=-1)\n",
    "\n",
    "                topk_log_probs, topk_ids = torch.topk(log_probs, beam_width, dim=-1)\n",
    "\n",
    "                for i in range(beam_width):\n",
    "                    word_id = topk_ids[0, i].item()\n",
    "                    new_score = score + topk_log_probs[0, i].item()\n",
    "                    new_seq = seq + [word_id]\n",
    "\n",
    "                    if word_id == eos_id:\n",
    "                        completed.append((new_score, new_seq))\n",
    "                    else:\n",
    "                        new_beam.append((new_score, new_seq))\n",
    "\n",
    "            if not new_beam:\n",
    "                break\n",
    "\n",
    "            # Keep top-k\n",
    "            beam = sorted(new_beam, key=lambda x: x[0], reverse=True)[:beam_width]\n",
    "\n",
    "        if not completed:\n",
    "            completed = beam\n",
    "\n",
    "        best_seq = sorted(completed, key=lambda x: x[0], reverse=True)[0][1]\n",
    "\n",
    "    # Convert to Japanese tokens (skip <bos> and <eos>)\n",
    "    return [ind_to_jpn.get(idx, '<unk>') for idx in best_seq[1:-1]]"
   ]
  },
  {
   "cell_type": "markdown",
   "id": "8528b9a9",
   "metadata": {},
   "source": [
    "## Load trained model"
   ]
  },
  {
   "cell_type": "code",
   "execution_count": 16,
   "id": "8982bf20",
   "metadata": {},
   "outputs": [
    {
     "name": "stdout",
     "output_type": "stream",
     "text": [
      "Missing keys: []\n",
      "Unexpected keys: []\n"
     ]
    },
    {
     "data": {
      "text/plain": [
       "Transformer(\n",
       "  (encoder_embedding): Embedding(6410, 180, padding_idx=0)\n",
       "  (decoder_embedding): Embedding(2020, 180, padding_idx=0)\n",
       "  (pos_encoder): PositionEncoding()\n",
       "  (pos_decoder): PositionEncoding()\n",
       "  (encoder_layers): ModuleList(\n",
       "    (0-4): 5 x EncoderLayer(\n",
       "      (self_attn): MultiheadAttention(\n",
       "        (out_proj): NonDynamicallyQuantizableLinear(in_features=180, out_features=180, bias=True)\n",
       "      )\n",
       "      (norm1): LayerNorm((180,), eps=1e-05, elementwise_affine=True)\n",
       "      (linear1): Linear(in_features=180, out_features=720, bias=True)\n",
       "      (relu): ReLU()\n",
       "      (dropout): Dropout(p=0.2, inplace=False)\n",
       "      (linear2): Linear(in_features=720, out_features=180, bias=True)\n",
       "      (norm2): LayerNorm((180,), eps=1e-05, elementwise_affine=True)\n",
       "    )\n",
       "  )\n",
       "  (decoder_layers): ModuleList(\n",
       "    (0-4): 5 x DecoderLayer(\n",
       "      (self_attn): MultiheadAttention(\n",
       "        (out_proj): NonDynamicallyQuantizableLinear(in_features=180, out_features=180, bias=True)\n",
       "      )\n",
       "      (cross_attn): MultiheadAttention(\n",
       "        (out_proj): NonDynamicallyQuantizableLinear(in_features=180, out_features=180, bias=True)\n",
       "      )\n",
       "      (norm1): LayerNorm((180,), eps=1e-05, elementwise_affine=True)\n",
       "      (norm2): LayerNorm((180,), eps=1e-05, elementwise_affine=True)\n",
       "      (linear1): Linear(in_features=180, out_features=720, bias=True)\n",
       "      (relu): ReLU()\n",
       "      (dropout): Dropout(p=0.2, inplace=False)\n",
       "      (linear2): Linear(in_features=720, out_features=180, bias=True)\n",
       "      (norm3): LayerNorm((180,), eps=1e-05, elementwise_affine=True)\n",
       "    )\n",
       "  )\n",
       "  (output_layer): Linear(in_features=180, out_features=2020, bias=True)\n",
       ")"
      ]
     },
     "execution_count": 16,
     "metadata": {},
     "output_type": "execute_result"
    }
   ],
   "source": [
    "import torch\n",
    "device = torch.device(\"cuda\" if torch.cuda.is_available() else \"cpu\")\n",
    "\n",
    "model = Transformer(\n",
    "    d_model=180,\n",
    "    dim_feedforward=720,\n",
    "    heads=6,\n",
    "    num_decoder_lay=5,\n",
    "    num_encoder_lay=5,\n",
    "    max_len=200,\n",
    "    x_vocab_size=len(eng_to_ind),\n",
    "    y_vocab_size=len(jpn_to_ind)\n",
    ").to(device)\n",
    "\n",
    "state = torch.load(\"torch_params.pt\", map_location=device)\n",
    "\n",
    "missing, unexpected = model.load_state_dict(state, strict=False)\n",
    "print(\"Missing keys:\", missing)\n",
    "print(\"Unexpected keys:\", unexpected)\n",
    "\n",
    "model.eval()\n"
   ]
  },
  {
   "cell_type": "code",
   "execution_count": 29,
   "id": "7b33c9bb",
   "metadata": {},
   "outputs": [
    {
     "name": "stdout",
     "output_type": "stream",
     "text": [
      "これ、かなりうまく動くよ。\n"
     ]
    }
   ],
   "source": [
    "eng_sentence = \"This worked pretty well\"\n",
    "tokens = eng_sentence.strip().lower().split()\n",
    "output_chars = translate_beam(model, tokens, eng_to_ind, jpn_to_ind, ind_to_jpn, beam_width=5)\n",
    "print(\"\".join(output_chars))"
   ]
  },
  {
   "cell_type": "markdown",
   "id": "274b9c71",
   "metadata": {},
   "source": [
    "![Architecture](figures/Translation.png)"
   ]
  },
  {
   "cell_type": "markdown",
   "id": "96bc64ad",
   "metadata": {},
   "source": [
    "Translation works as it should for small to medium sized sequences. Larger sequences dont work as well but thats to be expected."
   ]
  }
 ],
 "metadata": {
  "kaggle": {
   "accelerator": "gpu",
   "dataSources": [
    {
     "datasetId": 7937927,
     "sourceId": 12569836,
     "sourceType": "datasetVersion"
    }
   ],
   "dockerImageVersionId": 31090,
   "isGpuEnabled": true,
   "isInternetEnabled": true,
   "language": "python",
   "sourceType": "notebook"
  },
  "kernelspec": {
   "display_name": "Python 3",
   "language": "python",
   "name": "python3"
  },
  "language_info": {
   "codemirror_mode": {
    "name": "ipython",
    "version": 3
   },
   "file_extension": ".py",
   "mimetype": "text/x-python",
   "name": "python",
   "nbconvert_exporter": "python",
   "pygments_lexer": "ipython3",
   "version": "3.10.6"
  },
  "papermill": {
   "default_parameters": {},
   "duration": 2808.548572,
   "end_time": "2025-07-30T08:04:28.619678",
   "environment_variables": {},
   "exception": null,
   "input_path": "__notebook__.ipynb",
   "output_path": "__notebook__.ipynb",
   "parameters": {},
   "start_time": "2025-07-30T07:17:40.071106",
   "version": "2.6.0"
  }
 },
 "nbformat": 4,
 "nbformat_minor": 5
}
