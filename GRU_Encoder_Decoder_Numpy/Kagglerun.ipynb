{
 "cells": [
  {
   "cell_type": "markdown",
   "id": "d4fdb0f3",
   "metadata": {
    "papermill": {
     "duration": 0.00516,
     "end_time": "2025-08-06T07:33:28.992164",
     "exception": false,
     "start_time": "2025-08-06T07:33:28.987004",
     "status": "completed"
    },
    "tags": []
   },
   "source": [
    "# GRU-based Encoder–Decoder for Machine Translation (NumPy)"
   ]
  },
  {
   "cell_type": "markdown",
   "id": "bdde8132",
   "metadata": {
    "papermill": {
     "duration": 0.003979,
     "end_time": "2025-08-06T07:33:29.000845",
     "exception": false,
     "start_time": "2025-08-06T07:33:28.996866",
     "status": "completed"
    },
    "tags": []
   },
   "source": [
    "In this project, I created a machine translation model using an encoder–decoder architecture built entirely from scratch in NumPy, without using any deep learning frameworks. The model translates from English to Japanese using a GRU (Gated Recurrent Unit).\n",
    "- Dataset: English Japanese sentence pairs selected from the Tatoeba Project\n",
    "- Architecture: Encoder–Decoder with GRU\n",
    "- Objective: Generate Japanese translations using only NumPy operations\n",
    "\n"
   ]
  },
  {
   "cell_type": "markdown",
   "id": "06a07de9",
   "metadata": {
    "papermill": {
     "duration": 0.003758,
     "end_time": "2025-08-06T07:33:29.008858",
     "exception": false,
     "start_time": "2025-08-06T07:33:29.005100",
     "status": "completed"
    },
    "tags": []
   },
   "source": [
    "## Architecture Overview\n",
    "- **Embedding**: English and Japanese character tokens are first mapped to integer indices. Each index is embedded into a dense vector using separate embedding matrices.\n",
    "- **Encoder**: A GRU processes the full embedded English input sequence, the final hidden state is returned and represents the context of the entire input sentence. \n",
    "- **Decoder**: The decoder is another GRU that predicts the Japanese output one character at a time. It takes the embedded previous character and the hidden state from the previous step. The initial hidden state is the encoder's final hidden state.\n",
    "- **Output**: Immediately after running the decoder GRU on a time step, apply an FC layer to the hidden state at that time step to get output logits. Store those logits and at the end apply softmax."
   ]
  },
  {
   "cell_type": "markdown",
   "id": "25892a06",
   "metadata": {
    "papermill": {
     "duration": 0.003718,
     "end_time": "2025-08-06T07:33:29.016633",
     "exception": false,
     "start_time": "2025-08-06T07:33:29.012915",
     "status": "completed"
    },
    "tags": []
   },
   "source": [
    "![Encoder Decoder Architecture](figures/ED_arch.png)\n",
    "\n",
    "Image source: Zhang, Aston and Lipton, Zachary C. and Li, Mu and Smola, Alexander J. - https://github.com/d2l-ai/d2l-en"
   ]
  },
  {
   "cell_type": "markdown",
   "id": "ebb85d74",
   "metadata": {
    "papermill": {
     "duration": 0.003657,
     "end_time": "2025-08-06T07:33:29.024266",
     "exception": false,
     "start_time": "2025-08-06T07:33:29.020609",
     "status": "completed"
    },
    "tags": []
   },
   "source": [
    "## 1. Loading and Filtering Sentence Pairs\n",
    "\n",
    "Read English Japanese sentence pairs from the `jpn.txt` file. Because training a model from scratch using only NumPy means we can't use a gpu, we need to make the dataset smaller. We only use sentences with 3 or less words. lowercase the English text, and clean both languages using regular expressions. \n",
    "\n",
    "For English, we remove all non-alphanumeric characters. For Japanese, we preserve Hiragana, Katakana, Kanji, and a few key punctuation symbols (like 。 and 、). Duplicate English sentences are also removed to avoid redundancy."
   ]
  },
  {
   "cell_type": "code",
   "execution_count": 51,
   "id": "28d38e44",
   "metadata": {
    "execution": {
     "iopub.execute_input": "2025-08-06T07:33:29.034648Z",
     "iopub.status.busy": "2025-08-06T07:33:29.034277Z",
     "iopub.status.idle": "2025-08-06T07:33:29.725499Z",
     "shell.execute_reply": "2025-08-06T07:33:29.724478Z"
    },
    "papermill": {
     "duration": 0.699258,
     "end_time": "2025-08-06T07:33:29.727428",
     "exception": false,
     "start_time": "2025-08-06T07:33:29.028170",
     "status": "completed"
    },
    "tags": []
   },
   "outputs": [
    {
     "name": "stdout",
     "output_type": "stream",
     "text": [
      "English Sentences: ['go', 'hi', 'run', 'who', 'wow', 'duck', 'fire', 'help', 'hide', 'jump']\n",
      "English Sentences Length: 1104\n",
      "Japanese Sentences: ['行け。', 'こんにちは。', '走れ。', '誰？', 'すごい！', '頭を下げろ！', '火事だ！', '助けて！', '隠れろ。', '飛び越えろ！']\n",
      "Japanese Sentences Length: 1104\n"
     ]
    }
   ],
   "source": [
    "import numpy as np\n",
    "import re\n",
    "\n",
    "# Lists for cleaned sentences\n",
    "eng_sentences = []\n",
    "jpn_sentences = []\n",
    "\n",
    "# To avoid duplicates\n",
    "seen = set()\n",
    "\n",
    "with open('jpn.txt', \"r\", encoding=\"utf-8\") as f:\n",
    "    for line in f:\n",
    "        parts = line.strip().split(\"\\t\")\n",
    "\n",
    "        # Extract English and Japanese parts\n",
    "        eng = parts[0].strip().lower()\n",
    "        jpn = parts[1].strip().lower()\n",
    "\n",
    "        # Clean English: keep lowercase letters, numbers, and spaces\n",
    "        eng = re.sub(r\"[^a-z0-9\\s]\", \"\", eng)\n",
    "\n",
    "        # Clean Japanese: keep the punctuation\n",
    "        jpn = re.sub(r\"[^\\u3040-\\u30ff\\u4e00-\\u9fff。、！？\\s]\", \"\", jpn)\n",
    "        # Filtering out sentences, max 3 words\n",
    "        if len(eng.split()) <= 2 and len(jpn) <= 10 and eng not in seen:\n",
    "            eng_sentences.append(eng)\n",
    "            jpn_sentences.append(jpn)\n",
    "            seen.add(eng)\n",
    "\n",
    "print(f\"English Sentences: {eng_sentences[0:10]}\")\n",
    "print(f\"English Sentences Length: {len(eng_sentences)}\")\n",
    "print(f\"Japanese Sentences: {jpn_sentences[0:10]}\")\n",
    "print(f\"Japanese Sentences Length: {len(jpn_sentences)}\")"
   ]
  },
  {
   "cell_type": "markdown",
   "id": "7a9ea085",
   "metadata": {
    "papermill": {
     "duration": 0.006425,
     "end_time": "2025-08-06T07:33:29.740962",
     "exception": false,
     "start_time": "2025-08-06T07:33:29.734537",
     "status": "completed"
    },
    "tags": []
   },
   "source": [
    "## Vocabulary Construction\n",
    "\n",
    "We now build vocabularies for both English and Japanese.\n",
    "\n",
    "- English is tokenized at word level. We assign indices to all words that appear more than twice.\n",
    "- Japanese is tokenized at the character level, since words are not separated by spaces. Characters appearing more than twice are included in the vocabulary.\n",
    "\n",
    "We also add special tokens:\n",
    "\n",
    "| Token | Meaning         |\n",
    "|-------|------------------|\n",
    "| `<pad>` | Padding token     |\n",
    "| `<unk>` | Unknown token     |\n",
    "| `<bos>` | Beginning of sequence |\n",
    "| `<eos>` | End of sequence     |\n"
   ]
  },
  {
   "cell_type": "code",
   "execution_count": 52,
   "id": "4a2ebbc7",
   "metadata": {
    "execution": {
     "iopub.execute_input": "2025-08-06T07:33:29.751679Z",
     "iopub.status.busy": "2025-08-06T07:33:29.751263Z",
     "iopub.status.idle": "2025-08-06T07:33:29.796260Z",
     "shell.execute_reply": "2025-08-06T07:33:29.795013Z"
    },
    "papermill": {
     "duration": 0.051947,
     "end_time": "2025-08-06T07:33:29.798025",
     "exception": false,
     "start_time": "2025-08-06T07:33:29.746078",
     "status": "completed"
    },
    "tags": []
   },
   "outputs": [
    {
     "name": "stdout",
     "output_type": "stream",
     "text": [
      "English Vocabulary Size: 298\n",
      "Japanese Vocabulary Size: 427\n"
     ]
    }
   ],
   "source": [
    "from collections import Counter\n",
    "\n",
    "counter = Counter()\n",
    "\n",
    "# Count word frequency\n",
    "for sent in eng_sentences:\n",
    "    counter.update(sent.split())\n",
    "\n",
    "# English to index mapping\n",
    "eng_to_ind = {'<pad>': 0, '<unk>':1}\n",
    "ind = 2\n",
    "\n",
    "# Include words that appear 2+ times.\n",
    "for word in counter:\n",
    "    if counter[word] > 1:\n",
    "        eng_to_ind[word] = ind\n",
    "        ind += 1\n",
    "        \n",
    "print(\"English Vocabulary Size:\", len(eng_to_ind))\n",
    "\n",
    "jcounter = Counter()\n",
    "\n",
    "# Count character frequency across Japanese sentences\n",
    "for sent in jpn_sentences:\n",
    "    jcounter.update(list(sent))\n",
    "\n",
    "# Japanese to index and index to Japanese mapping\n",
    "jpn_to_ind = {'<pad>': 0, '<unk>': 1, '<bos>': 2, '<eos>': 3}\n",
    "ind_to_jpn = {0: '<pad>', 1: '<unk>', 2: '<bos>', 3: '<eos>'}\n",
    "ind = 4\n",
    "\n",
    "# Include characters that appear 2+ times\n",
    "for char, freq in jcounter.most_common():\n",
    "    if freq > 1:\n",
    "        jpn_to_ind[char] = ind\n",
    "        ind_to_jpn[ind] = char\n",
    "        ind += 1\n",
    "\n",
    "print(\"Japanese Vocabulary Size:\", len(jpn_to_ind))"
   ]
  },
  {
   "cell_type": "markdown",
   "id": "ef2d7b8c",
   "metadata": {
    "papermill": {
     "duration": 0.006066,
     "end_time": "2025-08-06T07:33:29.812022",
     "exception": false,
     "start_time": "2025-08-06T07:33:29.805956",
     "status": "completed"
    },
    "tags": []
   },
   "source": [
    "## Encoding Sentences\n",
    "\n",
    "Now convert each sentence into a sequence of integer indices.\n",
    "\n",
    "- English Encoding: \n",
    "  - Tokenized at the word level.\n",
    "  - Each sentence is padded to 3 tokens using the `<pad>` (index 0).\n",
    "  - Unknown words are mapped to `<unk>` (index 1).\n",
    "\n",
    "- Japanese Encoding:\n",
    "  - Tokenized at the character level.\n",
    "  - Each sentence starts with `<bos>` (index 2) and ends with `<eos>` (index 3).\n",
    "  - Limit to 12 tokens total to include both `<bos>` and `<eos>`.\n",
    "  - Padding (`<pad>`) is added at the end if needed."
   ]
  },
  {
   "cell_type": "code",
   "execution_count": 53,
   "id": "8df9fe42",
   "metadata": {
    "execution": {
     "iopub.execute_input": "2025-08-06T07:33:29.821628Z",
     "iopub.status.busy": "2025-08-06T07:33:29.821312Z",
     "iopub.status.idle": "2025-08-06T07:33:29.866051Z",
     "shell.execute_reply": "2025-08-06T07:33:29.865101Z"
    },
    "papermill": {
     "duration": 0.051648,
     "end_time": "2025-08-06T07:33:29.867929",
     "exception": false,
     "start_time": "2025-08-06T07:33:29.816281",
     "status": "completed"
    },
    "tags": []
   },
   "outputs": [
    {
     "name": "stdout",
     "output_type": "stream",
     "text": [
      "English Sentences Encoded: [[2, 0], [3, 0], [4, 0], [5, 0], [1, 0], [1, 0], [6, 0], [7, 0], [8, 0], [9, 0]]\n",
      "English Sentences Encoded Length: 1104\n",
      "Japanese Sentences Encoded: [[2, 58, 40, 4, 3, 0, 0, 0, 0, 0], [2, 31, 25, 27, 38, 6, 4, 3, 0, 0], [2, 109, 20, 4, 3, 0, 0, 0, 0, 0], [2, 50, 42, 3, 0, 0, 0, 0, 0, 0], [2, 12, 66, 5, 18, 3, 0, 0, 0, 0]]\n",
      "Japanese Sentences Encoded Length: 1104\n"
     ]
    }
   ],
   "source": [
    "eng_encoded = []\n",
    "\n",
    "# Encode each English sentence at word level\n",
    "# Maximum of 3 words per sentence\n",
    "for sentence in eng_sentences:\n",
    "    s = []\n",
    "    for word in sentence.split():\n",
    "        if word in eng_to_ind:\n",
    "            s.append(eng_to_ind[word])\n",
    "        else:\n",
    "            s.append(1)\n",
    "    while(len(s) < 2):\n",
    "        s.append(0) # Padding\n",
    "    eng_encoded.append(s)\n",
    "\n",
    "jpn_encoded = []\n",
    "\n",
    "# Encode each Japanese sentence character level\n",
    "# Maximum of twelve characters per sentence including <bos> and <eos>\n",
    "for sentence in jpn_sentences:\n",
    "    s = [2] # 2 is <bos>\n",
    "    for ch in sentence:\n",
    "        if len(s) > 8:\n",
    "            break # We need room to fit <eos> token.\n",
    "        if ch in jpn_to_ind:\n",
    "            s.append(jpn_to_ind[ch])\n",
    "        else:\n",
    "            s.append(1)   # 1 is <unk>\n",
    "    s.append(3)           # 3 is <eos>\n",
    "    while(len(s) < 10):\n",
    "        s.append(0)       # 0 is <pad>\n",
    "    jpn_encoded.append(s)\n",
    "\n",
    "print(f\"English Sentences Encoded: {eng_encoded[0:10]}\")\n",
    "print(f\"English Sentences Encoded Length: {len(eng_encoded)}\")\n",
    "print(f\"Japanese Sentences Encoded: {jpn_encoded[0:5]}\")\n",
    "print(f\"Japanese Sentences Encoded Length: {len(jpn_encoded)}\")"
   ]
  },
  {
   "cell_type": "markdown",
   "id": "8eb3ebac",
   "metadata": {
    "papermill": {
     "duration": 0.006262,
     "end_time": "2025-08-06T07:33:29.882700",
     "exception": false,
     "start_time": "2025-08-06T07:33:29.876438",
     "status": "completed"
    },
    "tags": []
   },
   "source": [
    "## Creating Embedding Matrices\n",
    "\n",
    "- Vocabulary Size: Approximately 900 for each language.\n",
    "- Embedding Dimension: I estimated using int(min(600, 1.6 * vocab_size ** 0.56)) = 72  \n",
    "  I wanted to use a power of 2, so I rounded down to 64.\n",
    "\n",
    "Each word or character will be embedded into a 64 dimensional dense vector.\n"
   ]
  },
  {
   "cell_type": "code",
   "execution_count": 54,
   "id": "f1c359cb",
   "metadata": {
    "execution": {
     "iopub.execute_input": "2025-08-06T07:33:29.893263Z",
     "iopub.status.busy": "2025-08-06T07:33:29.892930Z",
     "iopub.status.idle": "2025-08-06T07:33:29.907265Z",
     "shell.execute_reply": "2025-08-06T07:33:29.906124Z"
    },
    "papermill": {
     "duration": 0.021982,
     "end_time": "2025-08-06T07:33:29.909267",
     "exception": false,
     "start_time": "2025-08-06T07:33:29.887285",
     "status": "completed"
    },
    "tags": []
   },
   "outputs": [
    {
     "name": "stdout",
     "output_type": "stream",
     "text": [
      "English embedding shape: (298, 64)\n",
      "Japanese embedding shape: (427, 64)\n",
      "English input shape: (3, 64)\n"
     ]
    }
   ],
   "source": [
    "embedding_size = 64\n",
    "V_eng = len(eng_to_ind)  # English vocab size\n",
    "V_jpn = len(jpn_to_ind)  # Japanese vocab size\n",
    "\n",
    "eng_embedding = np.random.randn(V_eng, embedding_size) * 0.1\n",
    "jpn_embedding = np.random.randn(V_jpn, embedding_size) * 0.1\n",
    "\n",
    "print(f\"English embedding shape: {eng_embedding.shape}\")\n",
    "print(f\"Japanese embedding shape: {jpn_embedding.shape}\")\n",
    "\n",
    "# Example\n",
    "eng_sentence = [5, 23, 8]\n",
    "embedded_sentence = eng_embedding[eng_sentence]  # Shape (3, 64)\n",
    "print(f\"English input shape: {embedded_sentence.shape}\")  # (seq_len, embedding_dim)"
   ]
  },
  {
   "cell_type": "markdown",
   "id": "409c74bc",
   "metadata": {
    "papermill": {
     "duration": 0.004198,
     "end_time": "2025-08-06T07:33:29.917942",
     "exception": false,
     "start_time": "2025-08-06T07:33:29.913744",
     "status": "completed"
    },
    "tags": []
   },
   "source": [
    "## Activation and Loss Functions\n",
    "\n",
    "- Sigmoid: Used in GRU gates.\n",
    "- Tanh: Used for the candidate hidden state.\n",
    "- Softmax: Converts decoder logits into probabilities.\n",
    "- Cross Entropy Loss: Measures prediction error between predicted softmax outputs and true labels.\n",
    "\n",
    "Documentation generated by ChatGPT"
   ]
  },
  {
   "cell_type": "code",
   "execution_count": 55,
   "id": "bd55cc4b",
   "metadata": {
    "execution": {
     "iopub.execute_input": "2025-08-06T07:33:29.928947Z",
     "iopub.status.busy": "2025-08-06T07:33:29.928592Z",
     "iopub.status.idle": "2025-08-06T07:33:29.942426Z",
     "shell.execute_reply": "2025-08-06T07:33:29.941484Z"
    },
    "papermill": {
     "duration": 0.022184,
     "end_time": "2025-08-06T07:33:29.944385",
     "exception": false,
     "start_time": "2025-08-06T07:33:29.922201",
     "status": "completed"
    },
    "tags": []
   },
   "outputs": [],
   "source": [
    "def sigmoid(x):\n",
    "    \"\"\"\n",
    "    Element-wise Sigmoid activation function.\n",
    "    Used in GRU for update/reset gates.\n",
    "    \n",
    "    Clips input to avoid overflow in exp.\n",
    "    \"\"\"\n",
    "    x = np.clip(x, -50, 50)  # Prevent overflow\n",
    "    return 1 / (1 + np.exp(-x))\n",
    "\n",
    "def sigmoid_deriv(x):\n",
    "    \"\"\"\n",
    "    Derivative of the Sigmoid function.\n",
    "    Used during GRU backpropagation.\n",
    "    \"\"\"\n",
    "    s = sigmoid(x)\n",
    "    return s * (1 - s)\n",
    "\n",
    "def tanh(x):\n",
    "    \"\"\"\n",
    "    Element-wise hyperbolic tangent activation.\n",
    "    Used in GRU for candidate hidden state.\n",
    "    \"\"\"\n",
    "    return np.tanh(x)\n",
    "\n",
    "def tanh_deriv(x):\n",
    "    \"\"\"\n",
    "    Derivative of tanh function.\n",
    "    Used in GRU backpropagation.\n",
    "    \"\"\"\n",
    "    return 1.0 - np.tanh(x) ** 2\n",
    "\n",
    "def softmax(Z: np.ndarray) -> np.ndarray:\n",
    "    \"\"\"\n",
    "    Apply softmax over last dimension (class logits).\n",
    "    \n",
    "    Parameters:\n",
    "    - Z: np.ndarray of shape (batch_size, num_classes)\n",
    "      Raw logits for classification.\n",
    "    \n",
    "    Returns:\n",
    "    - np.ndarray of same shape: softmax probabilities.\n",
    "    \"\"\"\n",
    "    Z = Z - np.max(Z, axis=1, keepdims=True)\n",
    "    exp_Z = np.exp(Z)\n",
    "    return exp_Z / np.sum(exp_Z, axis=1, keepdims=True)\n",
    "\n",
    "def CrossEntropy(yhat: np.ndarray, y: np.ndarray, eps: float = 1e-15) -> float:\n",
    "    \"\"\"\n",
    "    Compute mean cross-entropy loss.\n",
    "\n",
    "    Parameters:\n",
    "    - yhat: np.ndarray of shape (batch_size, num_classes)\n",
    "        Predicted probabilities (after softmax)\n",
    "    - y: np.ndarray of shape (batch_size,)\n",
    "        True class indices\n",
    "    - eps: float\n",
    "        Small constant to avoid log(0)\n",
    "\n",
    "    Returns:\n",
    "    - float: mean loss across the batch\n",
    "    \"\"\"\n",
    "    yhat = np.clip(yhat, eps, 1 - eps)  # Prevent log(0)\n",
    "    correct_probs = yhat[np.arange(len(y)), y]\n",
    "    return -np.mean(np.log(correct_probs))\n"
   ]
  },
  {
   "cell_type": "markdown",
   "id": "6aa11cef",
   "metadata": {
    "papermill": {
     "duration": 0.00685,
     "end_time": "2025-08-06T07:33:29.958599",
     "exception": false,
     "start_time": "2025-08-06T07:33:29.951749",
     "status": "completed"
    },
    "tags": []
   },
   "source": [
    "## GRU Architecture and Implementation\n",
    "\n",
    "The Gated Recurrent Unit (GRU) is an RNN cell designed to assist with the vanishing/exploding gradient problem and capture long range dependencies more efficiently than a vanilla RNN. Below is a overview of the implementation.\n",
    "\n",
    "- Reset Gate (R): Determines how much of the past hidden state to forget.\n",
    "- Update Gate (Z): Determines how much of the new candidate state to use versus retaining the past hidden state."
   ]
  },
  {
   "cell_type": "markdown",
   "id": "1244d2ec",
   "metadata": {
    "papermill": {
     "duration": 0.006689,
     "end_time": "2025-08-06T07:33:29.972510",
     "exception": false,
     "start_time": "2025-08-06T07:33:29.965821",
     "status": "completed"
    },
    "tags": []
   },
   "source": [
    "## GRU Architecture and Implementation\n",
    "\n",
    "The Gated Recurrent Unit (GRU) is an RNN cell designed to assist with the vanishing/exploding gradient problem and capture long range dependencies more efficiently than a vanilla RNN. Below is a overview of the implementation.\n",
    "\n",
    "- Reset Gate (R): Determines how much of the past hidden state to forget.\n",
    "- Update Gate (Z): Determines how much of the new candidate state to use versus retaining the past hidden state.\n",
    "Rₜ = σ(xₜ @ W_r.T + hₜ₋₁ @ U_r + b_r)\n",
    "### Forward Pass (per time step \\(t\\))\n",
    "1. Compute gates\n",
    "    - Rₜ = σ(xₜ @ W_r.T + hₜ₋₁ @ U_r + b_r)\n",
    "    - Zₜ = σ(xₜ @ W_z.T + hₜ₋₁ @ U_z + b_z)\n",
    "2. Candidate state \n",
    "    - Cₜ = tanh(xₜ @ W_c.T + (Rₜ ⊙ hₜ₋₁) @ U_c + b_c)\n",
    "3. Hidden state update\n",
    "    - xₜ = zₜ ⊙ hₜ₋₁ + (1 - Zₜ) ⊙ Cₜ\n",
    "\n",
    "Store (xₜ, hₜ₋₁, Rₜ, Zₜ, Cₜ, hₜ) at each step to use during backpropagation.\n",
    "\n",
    "![GRU Architecture](figures/GRU_arch.png)\n",
    "\n",
    "### Gradient Calculations\n",
    "\n",
    "Calculating the gradients is a tedious process, below are my calculations to get this model to work. There were a lot of problems.\n",
    "\n",
    "![Backpropagation](figures/Backprop.png)\n",
    "\n",
    "### Integration into Encoder–Decoder\n",
    "- Encoder GRU: Processes the input sequence and returns the final hidden state \\(h_{enc}\\).  \n",
    "- Decoder GRU: Initialized with \\(h_{enc}\\), generates the target sequence by feeding its own previous output back as input."
   ]
  },
  {
   "cell_type": "code",
   "execution_count": 56,
   "id": "db297f04",
   "metadata": {
    "execution": {
     "iopub.execute_input": "2025-08-06T07:33:29.983111Z",
     "iopub.status.busy": "2025-08-06T07:33:29.982805Z",
     "iopub.status.idle": "2025-08-06T07:33:30.002358Z",
     "shell.execute_reply": "2025-08-06T07:33:30.001251Z"
    },
    "papermill": {
     "duration": 0.027264,
     "end_time": "2025-08-06T07:33:30.004290",
     "exception": false,
     "start_time": "2025-08-06T07:33:29.977026",
     "status": "completed"
    },
    "tags": []
   },
   "outputs": [],
   "source": [
    "class GRU:\n",
    "    def __init__(self, input_size, hidden_size):\n",
    "        self.input_size = input_size\n",
    "        self.hidden_size = hidden_size\n",
    "\n",
    "        # Xavier Normal std\n",
    "        std = np.sqrt(2 / (input_size + hidden_size))\n",
    "\n",
    "        # Reset gate (R)\n",
    "        self.r_w = np.random.normal(0, std, size=(hidden_size, input_size))\n",
    "        self.r_u = np.random.normal(0, std, size=(hidden_size, hidden_size))\n",
    "        self.r_b = np.zeros(hidden_size)\n",
    "\n",
    "        # Update gate (Z)\n",
    "        self.z_w = np.random.normal(0, std, size=(hidden_size, input_size))\n",
    "        self.z_u = np.random.normal(0, std, size=(hidden_size, hidden_size))\n",
    "        self.z_b = np.zeros(hidden_size)\n",
    "\n",
    "        # Candidate hidden state (C)\n",
    "        self.c_w = np.random.normal(0, std, size=(hidden_size, input_size))\n",
    "        self.c_u = np.random.normal(0, std, size=(hidden_size, hidden_size))\n",
    "        self.c_b = np.zeros(hidden_size)\n",
    "    \n",
    "    def forward(self, X, H=None):\n",
    "        batch_size, seq_len, embed_dim = X.shape # (N, T, D)\n",
    "        if H is None:\n",
    "            H = np.zeros(shape=(batch_size, self.hidden_size)) # (N, H)\n",
    "\n",
    "        hidden_states = []\n",
    "        store = [] # For backpropagation\n",
    "\n",
    "        for i in range(seq_len):\n",
    "            x_t = X[:, i, :]  # (N, D)\n",
    "            R = sigmoid(x_t @ self.r_w.T + H @ self.r_u + self.r_b)  # (N, H)\n",
    "            Z = sigmoid(x_t @ self.z_w.T + H @ self.z_u + self.z_b)  # (N, H)\n",
    "            C = tanh(x_t @ self.c_w.T + (R * H) @ self.c_u + self.c_b)  # (N, H)\n",
    "\n",
    "            H_new = Z * H + (1 - Z) * C  # (N, H)\n",
    "\n",
    "            store.append((x_t, H, R, Z, C, H_new))\n",
    "            H = H_new\n",
    "            hidden_states.append(H[:, np.newaxis, :])\n",
    "            \n",
    "\n",
    "        return H, np.concatenate(hidden_states, axis=1), store\n",
    "\n",
    "    def backward(self, dH_all, store, lr):\n",
    "\n",
    "        batch, seq_len, _ = dH_all.shape\n",
    "\n",
    "        # Initialize accumulators for parameter gradients to zeros\n",
    "        dr_w = np.zeros_like(self.r_w)  # ∂L/∂R_w, shape (H, D)\n",
    "        dr_u = np.zeros_like(self.r_u)  # ∂L/∂R_u, shape (H, H)\n",
    "        dr_b = np.zeros_like(self.r_b)  # ∂L/∂R_b,  shape (H,)\n",
    "\n",
    "        dz_w = np.zeros_like(self.z_w)  # ∂L/∂Z_w\n",
    "        dz_u = np.zeros_like(self.z_u)  # ∂L/∂Z_u\n",
    "        dz_b = np.zeros_like(self.z_b)  # ∂L/∂Z_b\n",
    "\n",
    "        dc_w = np.zeros_like(self.c_w)  # ∂L/∂C_w\n",
    "        dc_u = np.zeros_like(self.c_u)  # ∂L/∂C_u\n",
    "        dc_b = np.zeros_like(self.c_b)  # ∂L/∂C_b\n",
    "\n",
    "        # dh accumulates the gradient flowing from future time steps\n",
    "        dH = np.zeros((batch, self.hidden_size)) # (N, H)\n",
    "        \n",
    "        # Will hold gradient w.r.t. the input embeddings at each time step\n",
    "        dx = np.zeros((batch, seq_len, self.input_size))  # (N, T, D)\n",
    "\n",
    "        # Loop backwards through time: t = seq_len-1 ... 0\n",
    "        for t in reversed(range(seq_len)):\n",
    "            # Unpack stored values from forward pass\n",
    "            # x_t:   (N, D) input at time t\n",
    "            # h_prev:(N, H) previous hidden state\n",
    "            # r_t:   (N, H) reset gate\n",
    "            # z_t:   (N, H) update gate\n",
    "            # c_t:   (N, H) candidate hidden state\n",
    "            # h_t:   (N, H) final hidden state at time t\n",
    "            x_t, h_prev, r_t, z_t, c_t, h_t = store[t]\n",
    "\n",
    "            # dh: (N, H) total gradient wrt current hidden state h_t\n",
    "            # Includes gradient from output loss and from next time step dH\n",
    "            dh = dH_all[:, t, :] + dH\n",
    "            \n",
    "            # Gradients through update gate z_t and candidate c_t\n",
    "            # ∂L/∂z_t = dh ⊙ (h_prev - c_t)\n",
    "            dz = dh * (h_prev - c_t) # (N, H)\n",
    "            # ∂L/∂c_t = dh ⊙ (1 - z_t)\n",
    "            dc = dh * (1 - z_t)      # (N, H)\n",
    "            # ∂L/∂h_prev = dh ⊙ z_t, one part of ∂L/∂h_{t-1}\n",
    "            dh_prev = dh * z_t       # (N, H)\n",
    "\n",
    "            # Backprop through tanh: ∂L/∂c_t_preact = dc ⊙ (1 - c_t²)\n",
    "            dc_preact = dc * (1 - c_t**2)   # (N, H)\n",
    "            \n",
    "            # Accumulate parameter gradients for candidate weights\n",
    "            # ∂L/∂C_w = dc_preact.T @ x_t\n",
    "            dc_w += dc_preact.T @ x_t              # (H, D)\n",
    "            # ∂L/∂C_u = (r_t ⊙ h_prev).T @ dc_preact\n",
    "            dc_u += (r_t * h_prev).T @ dc_preact   # (H, H)\n",
    "            # ∂L/∂C_b = sum over batch of dc_preact\n",
    "            dc_b += np.sum(dc_preact, axis=0)      # (H,)\n",
    "\n",
    "            # Reset gate gradient from C preact's hidden side\n",
    "            # ∂L/∂r_t = ∂L/(∂C preact) ⊙ ∂(C preact)/∂r_t\n",
    "            # ∂L/∂r_t = (dc_preact @ C_u.T) ⊙ h_prev\n",
    "            dr = (dc_preact @ self.c_u.T) * h_prev   # (N, H)\n",
    "            # Backprop through sigmoid: ∂L/∂r_preact = dr ⊙ r_t ⊙ (1 - r_t)\n",
    "            dr_preact = dr * (r_t * (1 - r_t))       # (N, H)\n",
    "            # Accumulate Reset gate gradients\n",
    "            dr_w += dr_preact.T @ x_t                # (H, D)\n",
    "            dr_u += h_prev.T @ dr_preact             # (H, H)\n",
    "            dr_b += np.sum(dr_preact, axis=0)        # (H,)\n",
    "\n",
    "            # Backprop through update gate sigmoid\n",
    "            dz_preact = dz * z_t * (1 - z_t)         # (N, H)\n",
    "\n",
    "            # Accumulate update gate gradients\n",
    "            dz_w += dz_preact.T @ x_t                # (H, D)\n",
    "            dz_u += h_prev.T @ dz_preact             # (H, H)\n",
    "            dz_b += np.sum(dz_preact, axis=0)        # (H,)\n",
    "\n",
    "            # Add to total gradient wrt h_prev\n",
    "            # dh_prev = sum of all partials wrt h_prev from C, R, Z\n",
    "            dh_prev += (dc_preact @ self.c_u.T) * r_t        # (N, H)\n",
    "            dh_prev += dr_preact @ self.r_u.T                # (N, H)\n",
    "            dh_prev += dz_preact @ self.z_u.T                # (N, H)\n",
    "            \n",
    "\n",
    "            # Set dH for next iteration (t-1)\n",
    "            dH = dh_prev  # (N, H)\n",
    "\n",
    "            # Gradient wrt. input x_t combines contributions from each gate\n",
    "            # Paths: dr_preact, dz_preact, dc_preact\n",
    "            dx[:, t, :] = (\n",
    "                dr_preact @ self.r_w +  # via reset gate input weights\n",
    "                dz_preact @ self.z_w +  # via update gate input weights\n",
    "                dc_preact @ self.c_w    # via candidate input weights\n",
    "            )  # shape (N, D)\n",
    "\n",
    "\n",
    "        grads = [dc_w, dc_u, dc_b, dr_w, dr_u, dr_b, dz_w, dz_u, dz_b]\n",
    "\n",
    "        for i in range(len(grads)):\n",
    "            np.clip(grads[i], -1.0, 1.0, out=grads[i])  # Gradient Clipping\n",
    "\n",
    "        self.c_w -= lr * dc_w\n",
    "        self.c_u -= lr * dc_u\n",
    "        self.c_b -= lr * dc_b\n",
    "\n",
    "        self.r_w -= lr * dr_w\n",
    "        self.r_u -= lr * dr_u\n",
    "        self.r_b -= lr * dr_b\n",
    "\n",
    "        self.z_w -= lr * dz_w\n",
    "        self.z_u -= lr * dz_u\n",
    "        self.z_b -= lr * dz_b\n",
    "\n",
    "        return dH, dx"
   ]
  },
  {
   "cell_type": "markdown",
   "id": "8a0b0177",
   "metadata": {
    "papermill": {
     "duration": 0.006853,
     "end_time": "2025-08-06T07:33:30.018526",
     "exception": false,
     "start_time": "2025-08-06T07:33:30.011673",
     "status": "completed"
    },
    "tags": []
   },
   "source": [
    "Saving parameters function"
   ]
  },
  {
   "cell_type": "code",
   "execution_count": 57,
   "id": "5fad868e",
   "metadata": {
    "execution": {
     "iopub.execute_input": "2025-08-06T07:33:30.031806Z",
     "iopub.status.busy": "2025-08-06T07:33:30.030967Z",
     "iopub.status.idle": "2025-08-06T07:33:30.038348Z",
     "shell.execute_reply": "2025-08-06T07:33:30.037407Z"
    },
    "papermill": {
     "duration": 0.014445,
     "end_time": "2025-08-06T07:33:30.040086",
     "exception": false,
     "start_time": "2025-08-06T07:33:30.025641",
     "status": "completed"
    },
    "tags": []
   },
   "outputs": [],
   "source": [
    "def save_parameters(path, Encoder_GRU, Decoder_GRU, eng_embedding, jpn_embedding, o_w, o_b):\n",
    "\n",
    "    np.savez(\n",
    "        path,\n",
    "        eng_embedding=eng_embedding,\n",
    "        jpn_embedding=jpn_embedding,\n",
    "        o_w=o_w, o_b=o_b,\n",
    "        enc_r_w=Encoder_GRU.r_w, enc_r_u=Encoder_GRU.r_u, enc_r_b=Encoder_GRU.r_b,\n",
    "        enc_z_w=Encoder_GRU.z_w, enc_z_u=Encoder_GRU.z_u, enc_z_b=Encoder_GRU.z_b,\n",
    "        enc_c_w=Encoder_GRU.c_w, enc_c_u=Encoder_GRU.c_u, enc_c_b=Encoder_GRU.c_b,\n",
    "        dec_r_w=Decoder_GRU.r_w, dec_r_u=Decoder_GRU.r_u, dec_r_b=Decoder_GRU.r_b,\n",
    "        dec_z_w=Decoder_GRU.z_w, dec_z_u=Decoder_GRU.z_u, dec_z_b=Decoder_GRU.z_b,\n",
    "        dec_c_w=Decoder_GRU.c_w, dec_c_u=Decoder_GRU.c_u, dec_c_b=Decoder_GRU.c_b\n",
    "    )\n",
    "    print(\"Saved Parameters\")"
   ]
  },
  {
   "cell_type": "code",
   "execution_count": null,
   "id": "42ab4292",
   "metadata": {
    "execution": {
     "iopub.execute_input": "2025-08-06T07:33:30.050906Z",
     "iopub.status.busy": "2025-08-06T07:33:30.050476Z",
     "iopub.status.idle": "2025-08-06T09:23:47.998155Z",
     "shell.execute_reply": "2025-08-06T09:23:47.997125Z"
    },
    "papermill": {
     "duration": 6617.954943,
     "end_time": "2025-08-06T09:23:47.999889",
     "exception": false,
     "start_time": "2025-08-06T07:33:30.044946",
     "status": "completed"
    },
    "tags": []
   },
   "outputs": [
    {
     "name": "stdout",
     "output_type": "stream",
     "text": [
      "Epoch 1 | Loss: 5.9998\n",
      "Epoch 2 | Loss: 5.8802\n",
      "Epoch 3 | Loss: 5.7420\n",
      "Epoch 4 | Loss: 5.5296\n",
      "Epoch 5 | Loss: 5.1007\n",
      "Epoch 6 | Loss: 4.6553\n",
      "Epoch 7 | Loss: 4.3747\n",
      "Epoch 8 | Loss: 4.1870\n",
      "Epoch 9 | Loss: 4.0585\n",
      "Epoch 10 | Loss: 3.9534\n",
      "Epoch 11 | Loss: 3.8575\n",
      "Epoch 12 | Loss: 3.7727\n",
      "Epoch 13 | Loss: 3.7034\n"
     ]
    },
    {
     "ename": "KeyboardInterrupt",
     "evalue": "",
     "output_type": "error",
     "traceback": [
      "\u001b[1;31m---------------------------------------------------------------------------\u001b[0m",
      "\u001b[1;31mKeyboardInterrupt\u001b[0m                         Traceback (most recent call last)",
      "Cell \u001b[1;32mIn[58], line 48\u001b[0m\n\u001b[0;32m     45\u001b[0m dec_in_emb \u001b[38;5;241m=\u001b[39m jpn_embedding[decoder_input]        \u001b[38;5;66;03m# (N, T, D)\u001b[39;00m\n\u001b[0;32m     46\u001b[0m _, h_dec_all, dec_store \u001b[38;5;241m=\u001b[39m Decoder_GRU\u001b[38;5;241m.\u001b[39mforward(dec_in_emb, h_enc)\n\u001b[1;32m---> 48\u001b[0m logits_flat \u001b[38;5;241m=\u001b[39m \u001b[43m(\u001b[49m\u001b[43mh_dec_all\u001b[49m\u001b[43m \u001b[49m\u001b[38;5;241;43m@\u001b[39;49m\u001b[43m \u001b[49m\u001b[43mo_w\u001b[49m\u001b[38;5;241;43m.\u001b[39;49m\u001b[43mT\u001b[49m\u001b[43m \u001b[49m\u001b[38;5;241;43m+\u001b[39;49m\u001b[43m \u001b[49m\u001b[43mo_b\u001b[49m\u001b[43m)\u001b[49m\u001b[38;5;241;43m.\u001b[39;49m\u001b[43mreshape\u001b[49m\u001b[43m(\u001b[49m\u001b[38;5;241;43m-\u001b[39;49m\u001b[38;5;241;43m1\u001b[39;49m\u001b[43m,\u001b[49m\u001b[43m \u001b[49m\u001b[43mV_jpn\u001b[49m\u001b[43m)\u001b[49m \u001b[38;5;66;03m# (bs*seq_len, V_jpn)\u001b[39;00m\n\u001b[0;32m     49\u001b[0m targets_flat \u001b[38;5;241m=\u001b[39m decoder_target\u001b[38;5;241m.\u001b[39mreshape(\u001b[38;5;241m-\u001b[39m\u001b[38;5;241m1\u001b[39m)\n\u001b[0;32m     51\u001b[0m mask \u001b[38;5;241m=\u001b[39m (targets_flat \u001b[38;5;241m!=\u001b[39m pad_id)\n",
      "\u001b[1;31mKeyboardInterrupt\u001b[0m: "
     ]
    }
   ],
   "source": [
    "batch_size = 4\n",
    "epochs = 100\n",
    "lr = 0.01\n",
    "encoder_len = 2        # English length\n",
    "target_len = 10        # Japanese length\n",
    "hidden_size = 64\n",
    "\n",
    "bos_id, pad_id, eos_id = 2, 0, 3\n",
    "\n",
    "Encoder_GRU = GRU(64, hidden_size)\n",
    "Decoder_GRU = GRU(64, hidden_size)\n",
    "\n",
    "X = np.array(eng_encoded, dtype=int)\n",
    "y = np.array(jpn_encoded, dtype=int)\n",
    "\n",
    "V_jpn = jpn_embedding.shape[0]\n",
    "o_w = np.random.randn(V_jpn, hidden_size) * 0.01\n",
    "o_b = np.zeros(V_jpn)\n",
    "\n",
    "past_loss = []\n",
    "\n",
    "for epoch in range(epochs):\n",
    "    total_loss = 0\n",
    "\n",
    "    perm = np.random.permutation(X.shape[0])\n",
    "    X_train = X[perm]\n",
    "    y_train = y[perm]\n",
    "\n",
    "    for batch in range(0, X.shape[0], batch_size):\n",
    "        end = min(batch + batch_size, X_train.shape[0])\n",
    "        X_ids = X_train[batch:end]\n",
    "        y_train_batch = y_train[batch:end]\n",
    "        batch_len = X_ids.shape[0]\n",
    "        \n",
    "        # Encoder forward\n",
    "        X_emb = eng_embedding[X_ids]\n",
    "        h_enc, enc_h_all, enc_store = Encoder_GRU.forward(X_emb)\n",
    "\n",
    "        decoder_input = np.concatenate(\n",
    "            [np.full((batch_len, 1), bos_id, dtype=int), y_train_batch[:, :-1]],\n",
    "            axis=1\n",
    "        )\n",
    "        decoder_target = y_train_batch\n",
    "\n",
    "        dec_in_emb = jpn_embedding[decoder_input]        # (N, T, D)\n",
    "        _, h_dec_all, dec_store = Decoder_GRU.forward(dec_in_emb, h_enc)\n",
    "\n",
    "        logits_flat = (h_dec_all @ o_w.T + o_b).reshape(-1, V_jpn) # (bs*seq_len, V_jpn)\n",
    "        targets_flat = decoder_target.reshape(-1)\n",
    "\n",
    "        mask = (targets_flat != pad_id)\n",
    "        probs = softmax(logits_flat)\n",
    "        probs = np.clip(probs, 1e-12, 1 - 1e-12)\n",
    "        \n",
    "        loss = -np.sum(np.log(probs[np.where(mask)[0], targets_flat[mask]])) / mask.sum()\n",
    "        total_loss += loss * batch_len\n",
    "\n",
    "        # Backprop through softmax + cross entropy\n",
    "        dlogits = probs\n",
    "        dlogits[np.where(mask)[0], targets_flat[mask]] -= 1\n",
    "        dlogits /= mask.sum()  # average over non pad tokens\n",
    "\n",
    "        # Final linear layer grad\n",
    "        h_dec_all_flat = h_dec_all.reshape(-1, hidden_size)\n",
    "        do_w = dlogits.T @ h_dec_all_flat    # (V_jpn, H)\n",
    "        do_b = np.sum(dlogits, axis=0)       # (V_jpn,)\n",
    "        dh_dec = dlogits @ o_w\n",
    "        dh_dec = dh_dec.reshape(batch_len, target_len, hidden_size)\n",
    "\n",
    "        # Decoder GRU backward\n",
    "        dH_enc_from_dec, dx_dec = Decoder_GRU.backward(dh_dec, dec_store, lr)\n",
    "\n",
    "        # Update decoder embeddings and clip gradients\n",
    "        for b in range(batch_len):\n",
    "            for t in range(target_len):\n",
    "                idx_tok = decoder_input[b, t]\n",
    "                grad = np.clip(dx_dec[b, t], -1.0, 1.0)\n",
    "                jpn_embedding[idx_tok] -= lr * grad\n",
    "\n",
    "        # Encoder GRU backward\n",
    "        # Build gradient tensor with only last time-step having gradient\n",
    "        dH_enc_all = np.zeros_like(enc_h_all)           # (B, encoder_len, H)\n",
    "        dH_enc_all[:, -1, :] = dH_enc_from_dec          # gradient only on final encoder state\n",
    "        _, dx_enc = Encoder_GRU.backward(dH_enc_all, enc_store, lr)\n",
    "\n",
    "        # Update encoder embeddings and clip gradients\n",
    "        for b in range(batch_len):\n",
    "            for t in range(encoder_len):\n",
    "                tok = X_ids[b, t]\n",
    "                grad = np.clip(dx_enc[b, t], -1.0, 1.0)\n",
    "                eng_embedding[tok] -= lr * grad\n",
    "\n",
    "        # Clip output gradients\n",
    "        np.clip(do_w, -1.0, 1.0, out=do_w)\n",
    "        np.clip(do_b, -1.0, 1.0, out=do_b)\n",
    "\n",
    "        # Update output layer\n",
    "        o_w -= lr * do_w\n",
    "        o_b -= lr * do_b\n",
    "\n",
    "    tl = total_loss / X_train.shape[0]\n",
    "    print(f\"Epoch {epoch+1} | Loss: {tl:.4f}\")\n",
    "\n",
    "    past_loss.append(tl)\n",
    "\n",
    "    if len(past_loss) > 2:\n",
    "        if past_loss[-1] > past_loss[-2] and past_loss[-2] > past_loss[-3]:\n",
    "            break\n",
    "\n",
    "save_parameters(\"model_params.npz\", Encoder_GRU, Decoder_GRU, eng_embedding, jpn_embedding, o_w, o_b)"
   ]
  },
  {
   "cell_type": "code",
   "execution_count": null,
   "id": "05c8f1f6",
   "metadata": {
    "execution": {
     "iopub.execute_input": "2025-08-06T09:23:48.061231Z",
     "iopub.status.busy": "2025-08-06T09:23:48.060882Z",
     "iopub.status.idle": "2025-08-06T09:23:48.070311Z",
     "shell.execute_reply": "2025-08-06T09:23:48.069351Z"
    },
    "papermill": {
     "duration": 0.042026,
     "end_time": "2025-08-06T09:23:48.072013",
     "exception": false,
     "start_time": "2025-08-06T09:23:48.029987",
     "status": "completed"
    },
    "tags": []
   },
   "outputs": [],
   "source": [
    "def predict(Encoder_GRU, Decoder_GRU, input_seq,\n",
    "            eng_to_ind, eng_embedding,\n",
    "            jpn_embedding, o_w, o_b,\n",
    "            pad_id=0, unk_id=1, bos_id=2, eos_id=3,\n",
    "            max_len=20, encoder_len=3):\n",
    "    \"\"\"\n",
    "    Greedy decode.\n",
    "\n",
    "    Returns list of predicted token ids excluding <eos>.\n",
    "    \"\"\"\n",
    "    # Preprocess encoder input\n",
    "    import re, numpy as np\n",
    "    seq = re.sub(r\"[^a-z0-9\\s]\", \"\", input_seq.strip().lower())\n",
    "    src_tokens = [eng_to_ind.get(w, unk_id) for w in seq.split()]\n",
    "    if not src_tokens:\n",
    "        src_tokens = [pad_id]\n",
    "    while len(src_tokens) < encoder_len:\n",
    "        src_tokens.append(pad_id)\n",
    "    src_tokens = src_tokens[:encoder_len]\n",
    "\n",
    "    enc_embed = eng_embedding[src_tokens][None, ...]  # (1,T,D)\n",
    "    h_enc, _, _ = Encoder_GRU.forward(enc_embed)      # (1,H)\n",
    "\n",
    "    h = h_enc\n",
    "    prev_token = bos_id\n",
    "    preds = []\n",
    "\n",
    "    for step in range(max_len):\n",
    "        # Embed previous token\n",
    "        y_embed = jpn_embedding[prev_token][None, :]   # (1,D)\n",
    "\n",
    "        r = sigmoid(y_embed @ Decoder_GRU.r_w.T + h @ Decoder_GRU.r_u + Decoder_GRU.r_b)\n",
    "        z = sigmoid(y_embed @ Decoder_GRU.z_w.T + h @ Decoder_GRU.z_u + Decoder_GRU.z_b)\n",
    "        c = tanh(y_embed @ Decoder_GRU.c_w.T + (r * h) @ Decoder_GRU.c_u + Decoder_GRU.c_b)\n",
    "        h = z * h + (1 - z) * c # (1,H)\n",
    "\n",
    "        logits = h @ o_w.T + o_b # (1,V_jpn)\n",
    "\n",
    "        # Prevent <pad> and <bos> from being chosen\n",
    "        logits[0, pad_id] = -1e9\n",
    "        logits[0, bos_id] = -1e9\n",
    "\n",
    "        next_token = int(np.argmax(logits, axis=1)[0])\n",
    "\n",
    "        if next_token == eos_id:\n",
    "            break\n",
    "\n",
    "        preds.append(next_token)\n",
    "        prev_token = next_token\n",
    "\n",
    "    return preds\n"
   ]
  },
  {
   "cell_type": "code",
   "execution_count": null,
   "id": "86793436",
   "metadata": {},
   "outputs": [],
   "source": [
    "def load_model(path, embedding_dim=64, hidden_size=128):\n",
    "    params = np.load(path)\n",
    "\n",
    "    # Initialize GRUs\n",
    "    Encoder_GRU = GRU(embedding_dim, hidden_size)\n",
    "    Decoder_GRU = GRU(embedding_dim, hidden_size)\n",
    "\n",
    "    # Load Encoder weights\n",
    "    Encoder_GRU.r_w = params[\"enc_r_w\"]\n",
    "    Encoder_GRU.r_u = params[\"enc_r_u\"]\n",
    "    Encoder_GRU.r_b = params[\"enc_r_b\"]\n",
    "    Encoder_GRU.z_w = params[\"enc_z_w\"]\n",
    "    Encoder_GRU.z_u = params[\"enc_z_u\"]\n",
    "    Encoder_GRU.z_b = params[\"enc_z_b\"]\n",
    "    Encoder_GRU.c_w = params[\"enc_c_w\"]\n",
    "    Encoder_GRU.c_u = params[\"enc_c_u\"]\n",
    "    Encoder_GRU.c_b = params[\"enc_c_b\"]\n",
    "\n",
    "    # Load Decoder weights\n",
    "    Decoder_GRU.r_w = params[\"dec_r_w\"]\n",
    "    Decoder_GRU.r_u = params[\"dec_r_u\"]\n",
    "    Decoder_GRU.r_b = params[\"dec_r_b\"]\n",
    "    Decoder_GRU.z_w = params[\"dec_z_w\"]\n",
    "    Decoder_GRU.z_u = params[\"dec_z_u\"]\n",
    "    Decoder_GRU.z_b = params[\"dec_z_b\"]\n",
    "    Decoder_GRU.c_w = params[\"dec_c_w\"]\n",
    "    Decoder_GRU.c_u = params[\"dec_c_u\"]\n",
    "    Decoder_GRU.c_b = params[\"dec_c_b\"]\n",
    "\n",
    "    # Load embeddings and output layer\n",
    "    eng_embedding = params[\"eng_embedding\"]\n",
    "    jpn_embedding = params[\"jpn_embedding\"]\n",
    "    o_w = params[\"o_w\"]\n",
    "    o_b = params[\"o_b\"]\n",
    "\n",
    "    return Encoder_GRU, Decoder_GRU, eng_embedding, jpn_embedding, o_w, o_b"
   ]
  }
 ],
 "metadata": {
  "kaggle": {
   "accelerator": "none",
   "dataSources": [
    {
     "datasetId": 7937927,
     "sourceId": 12569836,
     "sourceType": "datasetVersion"
    }
   ],
   "dockerImageVersionId": 31089,
   "isGpuEnabled": false,
   "isInternetEnabled": true,
   "language": "python",
   "sourceType": "notebook"
  },
  "kernelspec": {
   "display_name": "Python 3",
   "language": "python",
   "name": "python3"
  },
  "language_info": {
   "codemirror_mode": {
    "name": "ipython",
    "version": 3
   },
   "file_extension": ".py",
   "mimetype": "text/x-python",
   "name": "python",
   "nbconvert_exporter": "python",
   "pygments_lexer": "ipython3",
   "version": "3.12.3"
  },
  "papermill": {
   "default_parameters": {},
   "duration": 6624.599167,
   "end_time": "2025-08-06T09:23:48.588777",
   "environment_variables": {},
   "exception": null,
   "input_path": "__notebook__.ipynb",
   "output_path": "__notebook__.ipynb",
   "parameters": {},
   "start_time": "2025-08-06T07:33:23.989610",
   "version": "2.6.0"
  }
 },
 "nbformat": 4,
 "nbformat_minor": 5
}
