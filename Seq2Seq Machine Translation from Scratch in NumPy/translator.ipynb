{
 "cells": [
  {
   "cell_type": "markdown",
   "id": "c5496342",
   "metadata": {},
   "source": []
  },
  {
   "cell_type": "code",
   "execution_count": null,
   "id": "19952da1",
   "metadata": {},
   "outputs": [],
   "source": [
    "from torchtext.datasets import IWSLT2016\n",
    "\n",
    "train_iter = IWSLT2016(split='train', language_pair=('en', 'de'))\n"
   ]
  }
 ],
 "metadata": {
  "language_info": {
   "name": "python"
  }
 },
 "nbformat": 4,
 "nbformat_minor": 5
}
