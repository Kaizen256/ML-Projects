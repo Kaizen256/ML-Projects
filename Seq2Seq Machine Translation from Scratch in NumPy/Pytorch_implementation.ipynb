{
 "cells": [
  {
   "cell_type": "markdown",
   "id": "73230ab6",
   "metadata": {},
   "source": []
  },
  {
   "cell_type": "code",
   "execution_count": 77,
   "id": "2475ebda",
   "metadata": {},
   "outputs": [
    {
     "name": "stdout",
     "output_type": "stream",
     "text": [
      "English Sentences: ['go', 'hi', 'run', 'who', 'wow', 'duck', 'fire', 'help', 'hide', 'jump']\n",
      "English Sentences Length: 94468\n",
      "Japanese Sentences: ['行け。', 'こんにちは。', '走れ。', '誰？', 'すごい！', '頭を下げろ！', '火事だ！', '助けて！', '隠れろ。', '飛び越えろ！']\n",
      "Japanese Sentences Length: 94468\n"
     ]
    }
   ],
   "source": [
    "import torch\n",
    "from torch import nn, optim\n",
    "import numpy as np\n",
    "import re\n",
    "device = torch.device(\"cuda\" if torch.cuda.is_available() else \"cpu\")\n",
    "\n",
    "# Lists for cleaned sentences\n",
    "eng_sentences = []\n",
    "jpn_sentences = []\n",
    "\n",
    "# To avoid duplicates\n",
    "seen = set()\n",
    "\n",
    "with open(\"jpn.txt\", \"r\", encoding=\"utf-8\") as f:\n",
    "    for line in f:\n",
    "        parts = line.strip().split(\"\\t\")\n",
    "\n",
    "        # Extract English and Japanese parts\n",
    "        eng = parts[0].strip().lower()\n",
    "        jpn = parts[1].strip().lower()\n",
    "\n",
    "        # Clean English: keep lowercase letters, numbers, and spaces\n",
    "        eng = re.sub(r\"[^a-z0-9\\s]\", \"\", eng)\n",
    "\n",
    "        # Clean Japanese: keep the punctuation\n",
    "        jpn = re.sub(r\"[^\\u3040-\\u30ff\\u4e00-\\u9fff。、！？\\s]\", \"\", jpn)\n",
    "        # Filtering out sentences, max 3 words\n",
    "        if eng not in seen:\n",
    "            eng_sentences.append(eng)\n",
    "            jpn_sentences.append(jpn)\n",
    "            seen.add(eng)\n",
    "\n",
    "print(f\"English Sentences: {eng_sentences[0:10]}\")\n",
    "print(f\"English Sentences Length: {len(eng_sentences)}\")\n",
    "print(f\"Japanese Sentences: {jpn_sentences[0:10]}\")\n",
    "print(f\"Japanese Sentences Length: {len(jpn_sentences)}\")"
   ]
  },
  {
   "cell_type": "code",
   "execution_count": 78,
   "id": "4bbde52d",
   "metadata": {},
   "outputs": [
    {
     "name": "stdout",
     "output_type": "stream",
     "text": [
      "English Vocabulary Size: 6410\n",
      "Japanese Vocabulary Size: 2020\n"
     ]
    }
   ],
   "source": [
    "from collections import Counter\n",
    "\n",
    "counter = Counter()\n",
    "\n",
    "# Count word frequency\n",
    "for sent in eng_sentences:\n",
    "    counter.update(sent.split())\n",
    "    \n",
    "# English to index mapping\n",
    "eng_to_ind = {'<pad>': 0, '<unk>':1}\n",
    "ind = 2\n",
    "\n",
    "# Include words that appear 3+ times.\n",
    "for word in counter:\n",
    "    if counter[word] > 2:\n",
    "        eng_to_ind[word] = ind\n",
    "        ind += 1\n",
    "\n",
    "jcounter = Counter()\n",
    "# Count character frequency across Japanese sentences\n",
    "for sent in jpn_sentences:\n",
    "    jcounter.update(list(sent))\n",
    "\n",
    "# Japanese to index and index to Japanese mapping\n",
    "jpn_to_ind = {'<pad>': 0, '<unk>': 1, '<bos>': 2, '<eos>': 3}\n",
    "ind_to_jpn = {0: '<pad>', 1: '<unk>', 2: '<bos>', 3: '<eos>'}\n",
    "ind = 4\n",
    "\n",
    "# Include characters that appear 3+ times\n",
    "for word in jcounter:\n",
    "    if jcounter[word] > 2:\n",
    "        jpn_to_ind[word] = ind\n",
    "        ind += 1\n",
    "\n",
    "print(\"English Vocabulary Size:\", len(eng_to_ind))\n",
    "print(\"Japanese Vocabulary Size:\", len(jpn_to_ind))"
   ]
  },
  {
   "cell_type": "code",
   "execution_count": 79,
   "id": "58dcafad",
   "metadata": {},
   "outputs": [
    {
     "name": "stdout",
     "output_type": "stream",
     "text": [
      "English Sentences Encoded Length: 94468\n",
      "Japanese Sentences Encoded Length: 94468\n"
     ]
    }
   ],
   "source": [
    "eng_encoded = []\n",
    "\n",
    "# Encode each English sentence at word level\n",
    "# Maximum of 18 words per sentence\n",
    "for sentence in eng_sentences:\n",
    "    s = []\n",
    "    for word in sentence.split():\n",
    "        if word in eng_to_ind:\n",
    "            s.append(eng_to_ind[word])\n",
    "        else:\n",
    "            s.append(1)\n",
    "        if len(s) > 17:\n",
    "            break\n",
    "    while(len(s) < 18):\n",
    "        s.append(0) # Padding\n",
    "    eng_encoded.append(s)\n",
    "\n",
    "jpn_encoded = []\n",
    "\n",
    "# Encode each Japanese sentence character level\n",
    "# Maximum of 45 characters per sentence including <bos> and <eos>\n",
    "for sentence in jpn_sentences:\n",
    "    s = [2] # 2 is <bos>\n",
    "    for ch in sentence:\n",
    "        if len(s) > 43:\n",
    "            break # We need room to fit <eos> token.\n",
    "        if ch in jpn_to_ind:\n",
    "            s.append(jpn_to_ind[ch])\n",
    "        else:\n",
    "            s.append(1)   # 1 is <unk>\n",
    "    s.append(3)           # 3 is <eos>\n",
    "    while(len(s) < 45):\n",
    "        s.append(0)       # 0 is <pad>\n",
    "    jpn_encoded.append(s)\n",
    "\n",
    "print(f\"English Sentences Encoded Length: {len(eng_encoded)}\")\n",
    "print(f\"Japanese Sentences Encoded Length: {len(jpn_encoded)}\")"
   ]
  },
  {
   "cell_type": "markdown",
   "id": "d0525532",
   "metadata": {},
   "source": [
    "int(min(600, 1.6 * eng_vocab_size ** 0.56)) = 216 ~= 215\n",
    "int(min(600, 1.6 * jpn_vocab_size ** 0.56)) = 114 ~= 115"
   ]
  },
  {
   "cell_type": "code",
   "execution_count": 80,
   "id": "ddadfac0",
   "metadata": {},
   "outputs": [],
   "source": [
    "class Translator(nn.Module):\n",
    "    def __init__(self, eng_vocab_size, jpn_vocab_size, enc_embed_size, dec_embed_size, hidden_size):\n",
    "        super().__init__()\n",
    "        self.enc_embed = nn.Embedding(num_embeddings=eng_vocab_size, embedding_dim=enc_embed_size, padding_idx=0)\n",
    "        self.encoder = nn.LSTM(enc_embed_size, hidden_size, batch_first=True, num_layers=2, dropout=0.3, bidirectional=True)\n",
    "        \n",
    "        self.dec_embed = nn.Embedding(num_embeddings=jpn_vocab_size, embedding_dim=dec_embed_size, padding_idx=0)\n",
    "        self.decoder = nn.LSTM(dec_embed_size, hidden_size, batch_first=True, num_layers=2, dropout=0.3)\n",
    "\n",
    "        self.out = nn.Linear(hidden_size, jpn_vocab_size)\n",
    "    \n",
    "    def forward(self, x, y):\n",
    "        x = self.enc_embed(x)\n",
    "        _, (h, c) = self.encoder(x)\n",
    "\n",
    "        # Reshape from (num_layers*2, batch, hidden) to (num_layers, 2, batch, hidden)\n",
    "        h = h.view(self.encoder.num_layers, 2, x.size(0), self.encoder.hidden_size)\n",
    "        c = c.view(self.encoder.num_layers, 2, x.size(0), self.encoder.hidden_size)\n",
    "\n",
    "        # Sum forward and backward directions: (num_layers, batch, hidden)\n",
    "        h = h.sum(dim=1)\n",
    "        c = c.sum(dim=1)\n",
    "\n",
    "\n",
    "        y = self.dec_embed(y)\n",
    "        output, _ = self.decoder(y, (h, c))\n",
    "\n",
    "        logits = self.out(output)\n",
    "        return logits"
   ]
  },
  {
   "cell_type": "code",
   "execution_count": 81,
   "id": "955214d2",
   "metadata": {},
   "outputs": [],
   "source": [
    "from torch.utils.data import DataLoader, TensorDataset\n",
    "\n",
    "X_tensor = torch.tensor(eng_encoded)\n",
    "y_tensor = torch.tensor(jpn_encoded)\n",
    "\n",
    "train_dataset = TensorDataset(X_tensor, y_tensor)\n",
    "train_dataloader = DataLoader(train_dataset, batch_size=64, shuffle=True)"
   ]
  },
  {
   "cell_type": "code",
   "execution_count": null,
   "id": "3fdcc582",
   "metadata": {},
   "outputs": [
    {
     "name": "stdout",
     "output_type": "stream",
     "text": [
      "0.005156783259691774\n"
     ]
    }
   ],
   "source": [
    "model = Translator(len(eng_to_ind), len(jpn_to_ind), 215, 115, 128).to(device)\n",
    "loss_fn = nn.CrossEntropyLoss(ignore_index=0)\n",
    "optim = optim.Adam(model.parameters(), lr=0.001)\n",
    "\n",
    "epochs = 1\n",
    "for epoch in range(epochs):\n",
    "    total_loss = 0\n",
    "\n",
    "    for xb, yb in train_dataloader:\n",
    "        xb = xb.to(device)\n",
    "        yb = yb.to(device)\n",
    "        optim.zero_grad()\n",
    "\n",
    "        logits = model(xb, yb[:, :-1])\n",
    "        targets = yb[:, 1:]\n",
    "\n",
    "        logits = logits.reshape(-1, logits.size(-1))\n",
    "        targets = targets.reshape(-1)\n",
    "\n",
    "        loss = loss_fn(logits, targets)\n",
    "        loss.backward()\n",
    "        optim.step()\n",
    "\n",
    "        total_loss += loss.item() * xb.size(0)\n",
    "    print(total_loss / len(eng_encoded))\n",
    "\n",
    "torch.save(model.state_dict(), \"torch_params.pt\")"
   ]
  },
  {
   "cell_type": "code",
   "execution_count": 83,
   "id": "8d99dca2",
   "metadata": {},
   "outputs": [],
   "source": [
    "import torch.nn.functional as F\n",
    "\n",
    "def translate_beam(model, src_seq, eng_to_ind, jpn_to_ind, ind_to_jpn, max_len=20, beam_width=3):\n",
    "    model.eval()\n",
    "\n",
    "    bos_id = jpn_to_ind[\"<bos>\"]\n",
    "    eos_id = jpn_to_ind[\"<eos>\"]\n",
    "\n",
    "    # Convert English words to indices\n",
    "    src_indices = [eng_to_ind.get(tok, 1) for tok in src_seq]\n",
    "    src_tensor = torch.tensor([src_indices], dtype=torch.long).to(device)\n",
    "    print(src_seq)\n",
    "    print(src_indices)\n",
    "    print([k for k in src_seq if k not in eng_to_ind])\n",
    "    with torch.no_grad():\n",
    "        enc_embed = model.enc_embed(src_tensor)  # (1, T, D)\n",
    "        _, (h, c) = model.encoder(enc_embed)\n",
    "\n",
    "        # Combine forward & backward states for bidirectional encoder\n",
    "        num_layers = model.encoder.num_layers\n",
    "        batch_size = src_tensor.size(0)\n",
    "        hidden_size = model.encoder.hidden_size\n",
    "\n",
    "        # h and c are (num_layers*2, batch, hidden_size)\n",
    "        h = h.view(num_layers, 2, batch_size, hidden_size).sum(dim=1)  # (num_layers, batch, hidden_size)\n",
    "        c = c.view(num_layers, 2, batch_size, hidden_size).sum(dim=1)\n",
    "\n",
    "        # Each beam: (score, sequence, h, c)\n",
    "        beam = [(0.0, [bos_id], h, c)]\n",
    "        completed_sequences = []\n",
    "\n",
    "        for _ in range(max_len):\n",
    "            new_beam = []\n",
    "\n",
    "            for score, seq, h_prev, c_prev in beam:\n",
    "                inputs = torch.tensor([[seq[-1]]], dtype=torch.long).to(device)  # (1, 1)\n",
    "                dec_embed = model.dec_embed(inputs)  # (1, 1, D)\n",
    "                out, (h_new, c_new) = model.decoder(dec_embed, (h_prev, c_prev))  # out: (1, 1, H)\n",
    "                logits = model.out(out[:, -1, :])  # (1, vocab_size)\n",
    "                log_probs = F.log_softmax(logits, dim=-1)  # (1, vocab_size)\n",
    "\n",
    "                topk_log_probs, topk_indices = torch.topk(log_probs, beam_width, dim=-1)  # (1, k)\n",
    "\n",
    "                for i in range(beam_width):\n",
    "                    word_id = topk_indices[0, i].item()\n",
    "                    word_score = topk_log_probs[0, i].item()\n",
    "                    new_seq = seq + [word_id]\n",
    "                    new_score = score + word_score\n",
    "\n",
    "                    if word_id == eos_id:\n",
    "                        completed_sequences.append((new_score, new_seq))\n",
    "                    else:\n",
    "                        new_beam.append((new_score, new_seq, h_new, c_new))\n",
    "\n",
    "            if not new_beam:\n",
    "                break\n",
    "\n",
    "            # Keep top-k\n",
    "            beam = sorted(new_beam, key=lambda x: x[0], reverse=True)[:beam_width]\n",
    "\n",
    "        # If no sequences finished with <eos>, use current best from beam\n",
    "        if not completed_sequences:\n",
    "            completed_sequences = [(score, seq) for score, seq, _, _ in beam]\n",
    "\n",
    "        completed_sequences.sort(key=lambda x: x[0], reverse=True)\n",
    "        best_seq = completed_sequences[0][1]\n",
    "\n",
    "    # Convert to Japanese characters (skip <bos>, <eos>)\n",
    "    return [ind_to_jpn.get(idx, '<unk>') for idx in best_seq[1:-1]]\n"
   ]
  },
  {
   "cell_type": "code",
   "execution_count": 84,
   "id": "7240466e",
   "metadata": {},
   "outputs": [
    {
     "name": "stdout",
     "output_type": "stream",
     "text": [
      "['tom', 'likes', 'food']\n",
      "[58, 1102, 878]\n",
      "[]\n",
      "<unk><unk><unk><unk><unk><unk><unk><unk><unk><unk><unk><unk><unk><unk><unk><unk><unk><unk><unk>\n"
     ]
    }
   ],
   "source": [
    "eng_sentence = \"Tom likes food\"\n",
    "tokens = eng_sentence.strip().lower().split()\n",
    "output_chars = translate_beam(model, tokens, eng_to_ind, jpn_to_ind, ind_to_jpn, beam_width=5)\n",
    "print(\"\".join(output_chars))\n"
   ]
  }
 ],
 "metadata": {
  "kernelspec": {
   "display_name": "Python 3",
   "language": "python",
   "name": "python3"
  },
  "language_info": {
   "codemirror_mode": {
    "name": "ipython",
    "version": 3
   },
   "file_extension": ".py",
   "mimetype": "text/x-python",
   "name": "python",
   "nbconvert_exporter": "python",
   "pygments_lexer": "ipython3",
   "version": "3.12.3"
  }
 },
 "nbformat": 4,
 "nbformat_minor": 5
}
